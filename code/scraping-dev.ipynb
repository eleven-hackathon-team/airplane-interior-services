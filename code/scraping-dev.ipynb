{
 "cells": [
  {
   "cell_type": "code",
   "execution_count": null,
   "metadata": {
    "ExecuteTime": {
     "end_time": "2021-02-08T15:16:00.010573Z",
     "start_time": "2021-02-08T15:15:48.494881Z"
    }
   },
   "outputs": [],
   "source": [
    "import pandas as pd\n",
    "import numpy as np\n",
    "import time\n",
    "from selenium import webdriver\n",
    "from scraping import *"
   ]
  },
  {
   "cell_type": "code",
   "execution_count": null,
   "metadata": {},
   "outputs": [],
   "source": [
    "TRIPADVISOR_URLS = {\n",
    "    \"Air France\": \"https://www.tripadvisor.com/Airline_Review-d8729003-Reviews-Air-France.html#REVIEWS\",\n",
    "    \"Delta\": \"https://www.tripadvisor.com/Airline_Review-d8729060-Reviews-Delta-Air-Lines.html#REVIEWS\",\n",
    "    \"American Airlines\": \"https://www.tripadvisor.com/Airline_Review-d8729020-Reviews-American-Airlines\",\n",
    "    \"Emirates\": \"https://www.tripadvisor.com/Airline_Review-d8729069-Reviews-Emirates\",\n",
    "    \"Lufthansa\": \"https://www.tripadvisor.com/Airline_Review-d8729113-Reviews-Lufthansa\",\n",
    "    \"British Airways\": \"https://www.tripadvisor.com/Airline_Review-d8729039-Reviews-British-Airways\"\n",
    "}"
   ]
  },
  {
   "cell_type": "code",
   "execution_count": null,
   "metadata": {},
   "outputs": [],
   "source": [
    "airline = \"Air France\""
   ]
  },
  {
   "cell_type": "code",
   "execution_count": null,
   "metadata": {},
   "outputs": [],
   "source": [
    "driver = webdriver.Chrome()\n",
    "scraper = TripAdvisorScraper(driver=driver, url=TRIPADVISOR_URLS.get(airline))\n",
    "reviews = scraper.scrape()\n",
    "reviews[\"airline\"] = airline\n",
    "driver.close()"
   ]
  },
  {
   "cell_type": "code",
   "execution_count": null,
   "metadata": {},
   "outputs": [],
   "source": [
    "reviews.shape"
   ]
  },
  {
   "cell_type": "code",
   "execution_count": null,
   "metadata": {},
   "outputs": [],
   "source": [
    "reviews.to_csv(f\"../data/tripadvisor_reviews_{airline}.csv\", index=False, sep=\"|\")  "
   ]
  }
 ],
 "metadata": {
  "kernelspec": {
   "display_name": "Python 3",
   "language": "python",
   "name": "python3"
  },
  "language_info": {
   "codemirror_mode": {
    "name": "ipython",
    "version": 3
   },
   "file_extension": ".py",
   "mimetype": "text/x-python",
   "name": "python",
   "nbconvert_exporter": "python",
   "pygments_lexer": "ipython3",
   "version": "3.8.3-final"
  }
 },
 "nbformat": 4,
 "nbformat_minor": 4
}