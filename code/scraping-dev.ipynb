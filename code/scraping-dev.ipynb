{
 "cells": [
  {
   "cell_type": "code",
   "execution_count": 1,
   "metadata": {
    "ExecuteTime": {
     "end_time": "2021-02-08T15:16:00.010573Z",
     "start_time": "2021-02-08T15:15:48.494881Z"
    }
   },
   "outputs": [],
   "source": [
    "import pandas as pd\n",
    "import numpy as np\n",
    "from selenium import webdriver"
   ]
  },
  {
   "cell_type": "code",
   "execution_count": 33,
   "metadata": {
    "ExecuteTime": {
     "end_time": "2021-02-08T21:03:21.652919Z",
     "start_time": "2021-02-08T21:03:21.541215Z"
    }
   },
   "outputs": [],
   "source": [
    "class SkytraxScraper():\n",
    "    \"\"\"A class to scrape www.airlinequality.com \n",
    "    \"\"\"\n",
    "    \n",
    "    def __init__(self, url):\n",
    "        \"\"\"\n",
    "        Parameters\n",
    "        ----------\n",
    "        url : string\n",
    "            The URL of the website to scrape.\n",
    "        \"\"\"\n",
    "        self.driver = webdriver.Chrome()\n",
    "        self.driver.get(url)\n",
    "        self.data = pd.DataFrame()\n",
    "        self.additional_fields = [\n",
    "            \"aircraft\", \n",
    "            \"cabin_flown\", \n",
    "            \"seat_comfort\"\n",
    "        ]\n",
    "        self.rating_fields = [\n",
    "            \"cabin_staff_service\", \n",
    "            \"food_and_beverage\", \n",
    "            \"inflight_entertainment\", \n",
    "            \"ground_service\",\n",
    "            \"wifi_and_connectivity\", \n",
    "            \"value_for_money\"\n",
    "        ]\n",
    "      \n",
    "    \n",
    "    def get_reviews(self):\n",
    "        self.current_reviews = self.driver.find_elements_by_xpath(\"//article[@itemprop='review']\")\n",
    "    \n",
    "\n",
    "    def extract_content(self, review):\n",
    "        \"\"\"Extracts the main information from the review.\n",
    "\n",
    "        Parameters\n",
    "        ----------\n",
    "        review : selenium.webdriver.remote.webelement.WebElement\n",
    "            The review object to extract information of.\n",
    "\n",
    "        Returns\n",
    "        -------\n",
    "        list\n",
    "            date of the review, content of the review and rating associated, and additional fields specified.\n",
    "        \"\"\"\n",
    "        # Basic information (date, content and rating)\n",
    "        date = review.find_element_by_xpath(\".//time\").get_attribute(\"datetime\")\n",
    "        title = review.find_element_by_xpath(\".//h2[@class='text_header']\").text.replace('\"', \"\")\n",
    "        content = review.find_element_by_xpath(\".//div[@class='text_content ']\").text.replace(\"✅ Trip Verified |\", \"\")\n",
    "        comment = \".\".join([title, content])\n",
    "        rating = review.find_element_by_xpath(\".//span[@itemprop='ratingValue']\").text\n",
    "        review_data = [date, comment, rating]\n",
    "        \n",
    "        # Additional fields \n",
    "        for field in self.additional_fields:\n",
    "            field_header = review.find_elements_by_xpath(f\".//td[@class='review-rating-header {field} ']\")\n",
    "            if len(field_header) > 0: # if the field has not been filled by the customer, len(field_header)=0\n",
    "                field_content = field_header[0].find_element_by_xpath(\"./../td[2]\").text\n",
    "            else:\n",
    "                field_content = \"\"\n",
    "            review_data.append(field_content)\n",
    "        \n",
    "        # Rating fields\n",
    "        for field in self.rating_fields:\n",
    "            field_header = review.find_elements_by_xpath(f\".//td[@class='review-rating-header {field}']\")\n",
    "            if len(field_header) > 0:\n",
    "                # the text from the last filled star indicates the rating\n",
    "                field_rating = field_header[0].find_elements_by_xpath(\"./../td[2]/span[@class='star fill']\")[-1].text \n",
    "            else:\n",
    "                field_rating = \"\"\n",
    "            review_data.append(field_rating)\n",
    "        \n",
    "        return review_data\n",
    "        \n",
    "        \n",
    "    def scrape_current_page(self):\n",
    "        \"\"\"Extracts information from all reviews on the current page.\n",
    "        \"\"\"\n",
    "        self.get_reviews()\n",
    "        for review in self.current_reviews:\n",
    "            content = self.extract_content(review)\n",
    "            self.data = self.data.append([content])\n",
    "        \n",
    "        \n",
    "    def go_to_next_page(self):\n",
    "            self.driver.find_element_by_partial_link_text(\">>\").click()\n",
    "    \n",
    "    \n",
    "    def scrape(self, n_pages=np.inf):\n",
    "        \"\"\"Performs the whole scraping process.\n",
    "\n",
    "        Parameters\n",
    "        ----------\n",
    "        n_pages : integer, optional\n",
    "            The number of pages to scrape (if any), by default np.inf\n",
    "\n",
    "        Returns\n",
    "        -------\n",
    "        pandas.DataFrame\n",
    "            Information extracted from the reviews in the pages scraped.\n",
    "        \"\"\"\n",
    "        current_page_no = 1\n",
    "        while current_page_no <= n_pages:\n",
    "            print(f\"Scraping page no {current_page_no}\")\n",
    "            self.scrape_current_page()\n",
    "            try:\n",
    "                self.go_to_next_page()\n",
    "            except:\n",
    "                print(\"Last page reached.\")\n",
    "                break\n",
    "            current_page_no += 1\n",
    "        self.driver.close()\n",
    "        self.data.columns = [\"date\", \"comment\", \"rating\"] + self.additional_fields + self.rating_fields\n",
    "        self.data.reset_index(inplace=True, drop=True)\n",
    "        \n",
    "        return self.data"
   ]
  },
  {
   "cell_type": "code",
   "execution_count": 34,
   "metadata": {
    "ExecuteTime": {
     "end_time": "2021-02-08T21:03:53.767761Z",
     "start_time": "2021-02-08T21:03:22.302771Z"
    }
   },
   "outputs": [],
   "source": [
    "scraper = SkytraxScraper(\"https://www.airlinequality.com/airline-reviews/air-france/\")"
   ]
  },
  {
   "cell_type": "code",
   "execution_count": 36,
   "metadata": {
    "ExecuteTime": {
     "end_time": "2021-02-08T21:04:00.144893Z",
     "start_time": "2021-02-08T21:03:53.773743Z"
    }
   },
   "outputs": [
    {
     "output_type": "stream",
     "name": "stdout",
     "text": [
      "Scraping page no 1\n"
     ]
    },
    {
     "output_type": "execute_result",
     "data": {
      "text/plain": [
       "          date                                            comment rating  \\\n",
       "0   2020-10-19  refused to let my mother board a flight. On 10...      1   \n",
       "1   2020-10-15  I was very impressed. I was very impressed wit...     10   \n",
       "2   2020-10-15  not allowed on board. When buying tickets Ista...      2   \n",
       "3   2020-10-11  never fly with Air France again. I purchased a...      1   \n",
       "4   2020-10-09  I will have to wait for 3 months. I had a very...      1   \n",
       "5   2020-10-04  Air France can do much better on the food. So ...      7   \n",
       "6   2020-10-04  service was extremely nice and polite. There w...      9   \n",
       "7   2020-09-09  They will check your bag weight. If your 2 pie...      1   \n",
       "8   2020-09-08  no excuse for this horrible service. In the le...      1   \n",
       "9   2020-08-24  inflight service was good. Marseilles to Athen...      9   \n",
       "10  2020-10-19  refused to let my mother board a flight. On 10...      1   \n",
       "11  2020-10-15  I was very impressed. I was very impressed wit...     10   \n",
       "12  2020-10-15  not allowed on board. When buying tickets Ista...      2   \n",
       "13  2020-10-11  never fly with Air France again. I purchased a...      1   \n",
       "14  2020-10-09  I will have to wait for 3 months. I had a very...      1   \n",
       "15  2020-10-04  Air France can do much better on the food. So ...      7   \n",
       "16  2020-10-04  service was extremely nice and polite. There w...      9   \n",
       "17  2020-09-09  They will check your bag weight. If your 2 pie...      1   \n",
       "18  2020-09-08  no excuse for this horrible service. In the le...      1   \n",
       "19  2020-08-24  inflight service was good. Marseilles to Athen...      9   \n",
       "\n",
       "          aircraft     cabin_flown seat_comfort cabin_staff_service  \\\n",
       "0           MBM4YR   Economy Class                                    \n",
       "1             A350   Economy Class                                5   \n",
       "2                    Economy Class                                5   \n",
       "3                    Economy Class                                    \n",
       "4                    Economy Class                                    \n",
       "5             A350   Economy Class                                3   \n",
       "6                    Economy Class                                5   \n",
       "7                    Economy Class                                    \n",
       "8   Boeing 777-300  Business Class                                3   \n",
       "9             A320   Economy Class                                5   \n",
       "10          MBM4YR   Economy Class                                    \n",
       "11            A350   Economy Class                                5   \n",
       "12                   Economy Class                                5   \n",
       "13                   Economy Class                                    \n",
       "14                   Economy Class                                    \n",
       "15            A350   Economy Class                                3   \n",
       "16                   Economy Class                                5   \n",
       "17                   Economy Class                                    \n",
       "18  Boeing 777-300  Business Class                                3   \n",
       "19            A320   Economy Class                                5   \n",
       "\n",
       "   food_and_beverage inflight_entertainment ground_service  \\\n",
       "0                                                        1   \n",
       "1                                         4              5   \n",
       "2                                                        1   \n",
       "3                                                        1   \n",
       "4                                                            \n",
       "5                                         3              4   \n",
       "6                                                        5   \n",
       "7                                         1              1   \n",
       "8                                         3              1   \n",
       "9                                         4              5   \n",
       "10                                                       1   \n",
       "11                                        4              5   \n",
       "12                                                       1   \n",
       "13                                                       1   \n",
       "14                                                           \n",
       "15                                        3              4   \n",
       "16                                                       5   \n",
       "17                                        1              1   \n",
       "18                                        3              1   \n",
       "19                                        4              5   \n",
       "\n",
       "   wifi_and_connectivity value_for_money  \n",
       "0                                      1  \n",
       "1                      5               5  \n",
       "2                                      5  \n",
       "3                                      1  \n",
       "4                                      1  \n",
       "5                                      4  \n",
       "6                      4               5  \n",
       "7                      1               1  \n",
       "8                      3               1  \n",
       "9                      4               5  \n",
       "10                                     1  \n",
       "11                     5               5  \n",
       "12                                     5  \n",
       "13                                     1  \n",
       "14                                     1  \n",
       "15                                     4  \n",
       "16                     4               5  \n",
       "17                     1               1  \n",
       "18                     3               1  \n",
       "19                     4               5  "
      ],
      "text/html": "<div>\n<style scoped>\n    .dataframe tbody tr th:only-of-type {\n        vertical-align: middle;\n    }\n\n    .dataframe tbody tr th {\n        vertical-align: top;\n    }\n\n    .dataframe thead th {\n        text-align: right;\n    }\n</style>\n<table border=\"1\" class=\"dataframe\">\n  <thead>\n    <tr style=\"text-align: right;\">\n      <th></th>\n      <th>date</th>\n      <th>comment</th>\n      <th>rating</th>\n      <th>aircraft</th>\n      <th>cabin_flown</th>\n      <th>seat_comfort</th>\n      <th>cabin_staff_service</th>\n      <th>food_and_beverage</th>\n      <th>inflight_entertainment</th>\n      <th>ground_service</th>\n      <th>wifi_and_connectivity</th>\n      <th>value_for_money</th>\n    </tr>\n  </thead>\n  <tbody>\n    <tr>\n      <th>0</th>\n      <td>2020-10-19</td>\n      <td>refused to let my mother board a flight. On 10...</td>\n      <td>1</td>\n      <td>MBM4YR</td>\n      <td>Economy Class</td>\n      <td></td>\n      <td></td>\n      <td></td>\n      <td></td>\n      <td>1</td>\n      <td></td>\n      <td>1</td>\n    </tr>\n    <tr>\n      <th>1</th>\n      <td>2020-10-15</td>\n      <td>I was very impressed. I was very impressed wit...</td>\n      <td>10</td>\n      <td>A350</td>\n      <td>Economy Class</td>\n      <td></td>\n      <td>5</td>\n      <td></td>\n      <td>4</td>\n      <td>5</td>\n      <td>5</td>\n      <td>5</td>\n    </tr>\n    <tr>\n      <th>2</th>\n      <td>2020-10-15</td>\n      <td>not allowed on board. When buying tickets Ista...</td>\n      <td>2</td>\n      <td></td>\n      <td>Economy Class</td>\n      <td></td>\n      <td>5</td>\n      <td></td>\n      <td></td>\n      <td>1</td>\n      <td></td>\n      <td>5</td>\n    </tr>\n    <tr>\n      <th>3</th>\n      <td>2020-10-11</td>\n      <td>never fly with Air France again. I purchased a...</td>\n      <td>1</td>\n      <td></td>\n      <td>Economy Class</td>\n      <td></td>\n      <td></td>\n      <td></td>\n      <td></td>\n      <td>1</td>\n      <td></td>\n      <td>1</td>\n    </tr>\n    <tr>\n      <th>4</th>\n      <td>2020-10-09</td>\n      <td>I will have to wait for 3 months. I had a very...</td>\n      <td>1</td>\n      <td></td>\n      <td>Economy Class</td>\n      <td></td>\n      <td></td>\n      <td></td>\n      <td></td>\n      <td></td>\n      <td></td>\n      <td>1</td>\n    </tr>\n    <tr>\n      <th>5</th>\n      <td>2020-10-04</td>\n      <td>Air France can do much better on the food. So ...</td>\n      <td>7</td>\n      <td>A350</td>\n      <td>Economy Class</td>\n      <td></td>\n      <td>3</td>\n      <td></td>\n      <td>3</td>\n      <td>4</td>\n      <td></td>\n      <td>4</td>\n    </tr>\n    <tr>\n      <th>6</th>\n      <td>2020-10-04</td>\n      <td>service was extremely nice and polite. There w...</td>\n      <td>9</td>\n      <td></td>\n      <td>Economy Class</td>\n      <td></td>\n      <td>5</td>\n      <td></td>\n      <td></td>\n      <td>5</td>\n      <td>4</td>\n      <td>5</td>\n    </tr>\n    <tr>\n      <th>7</th>\n      <td>2020-09-09</td>\n      <td>They will check your bag weight. If your 2 pie...</td>\n      <td>1</td>\n      <td></td>\n      <td>Economy Class</td>\n      <td></td>\n      <td></td>\n      <td></td>\n      <td>1</td>\n      <td>1</td>\n      <td>1</td>\n      <td>1</td>\n    </tr>\n    <tr>\n      <th>8</th>\n      <td>2020-09-08</td>\n      <td>no excuse for this horrible service. In the le...</td>\n      <td>1</td>\n      <td>Boeing 777-300</td>\n      <td>Business Class</td>\n      <td></td>\n      <td>3</td>\n      <td></td>\n      <td>3</td>\n      <td>1</td>\n      <td>3</td>\n      <td>1</td>\n    </tr>\n    <tr>\n      <th>9</th>\n      <td>2020-08-24</td>\n      <td>inflight service was good. Marseilles to Athen...</td>\n      <td>9</td>\n      <td>A320</td>\n      <td>Economy Class</td>\n      <td></td>\n      <td>5</td>\n      <td></td>\n      <td>4</td>\n      <td>5</td>\n      <td>4</td>\n      <td>5</td>\n    </tr>\n    <tr>\n      <th>10</th>\n      <td>2020-10-19</td>\n      <td>refused to let my mother board a flight. On 10...</td>\n      <td>1</td>\n      <td>MBM4YR</td>\n      <td>Economy Class</td>\n      <td></td>\n      <td></td>\n      <td></td>\n      <td></td>\n      <td>1</td>\n      <td></td>\n      <td>1</td>\n    </tr>\n    <tr>\n      <th>11</th>\n      <td>2020-10-15</td>\n      <td>I was very impressed. I was very impressed wit...</td>\n      <td>10</td>\n      <td>A350</td>\n      <td>Economy Class</td>\n      <td></td>\n      <td>5</td>\n      <td></td>\n      <td>4</td>\n      <td>5</td>\n      <td>5</td>\n      <td>5</td>\n    </tr>\n    <tr>\n      <th>12</th>\n      <td>2020-10-15</td>\n      <td>not allowed on board. When buying tickets Ista...</td>\n      <td>2</td>\n      <td></td>\n      <td>Economy Class</td>\n      <td></td>\n      <td>5</td>\n      <td></td>\n      <td></td>\n      <td>1</td>\n      <td></td>\n      <td>5</td>\n    </tr>\n    <tr>\n      <th>13</th>\n      <td>2020-10-11</td>\n      <td>never fly with Air France again. I purchased a...</td>\n      <td>1</td>\n      <td></td>\n      <td>Economy Class</td>\n      <td></td>\n      <td></td>\n      <td></td>\n      <td></td>\n      <td>1</td>\n      <td></td>\n      <td>1</td>\n    </tr>\n    <tr>\n      <th>14</th>\n      <td>2020-10-09</td>\n      <td>I will have to wait for 3 months. I had a very...</td>\n      <td>1</td>\n      <td></td>\n      <td>Economy Class</td>\n      <td></td>\n      <td></td>\n      <td></td>\n      <td></td>\n      <td></td>\n      <td></td>\n      <td>1</td>\n    </tr>\n    <tr>\n      <th>15</th>\n      <td>2020-10-04</td>\n      <td>Air France can do much better on the food. So ...</td>\n      <td>7</td>\n      <td>A350</td>\n      <td>Economy Class</td>\n      <td></td>\n      <td>3</td>\n      <td></td>\n      <td>3</td>\n      <td>4</td>\n      <td></td>\n      <td>4</td>\n    </tr>\n    <tr>\n      <th>16</th>\n      <td>2020-10-04</td>\n      <td>service was extremely nice and polite. There w...</td>\n      <td>9</td>\n      <td></td>\n      <td>Economy Class</td>\n      <td></td>\n      <td>5</td>\n      <td></td>\n      <td></td>\n      <td>5</td>\n      <td>4</td>\n      <td>5</td>\n    </tr>\n    <tr>\n      <th>17</th>\n      <td>2020-09-09</td>\n      <td>They will check your bag weight. If your 2 pie...</td>\n      <td>1</td>\n      <td></td>\n      <td>Economy Class</td>\n      <td></td>\n      <td></td>\n      <td></td>\n      <td>1</td>\n      <td>1</td>\n      <td>1</td>\n      <td>1</td>\n    </tr>\n    <tr>\n      <th>18</th>\n      <td>2020-09-08</td>\n      <td>no excuse for this horrible service. In the le...</td>\n      <td>1</td>\n      <td>Boeing 777-300</td>\n      <td>Business Class</td>\n      <td></td>\n      <td>3</td>\n      <td></td>\n      <td>3</td>\n      <td>1</td>\n      <td>3</td>\n      <td>1</td>\n    </tr>\n    <tr>\n      <th>19</th>\n      <td>2020-08-24</td>\n      <td>inflight service was good. Marseilles to Athen...</td>\n      <td>9</td>\n      <td>A320</td>\n      <td>Economy Class</td>\n      <td></td>\n      <td>5</td>\n      <td></td>\n      <td>4</td>\n      <td>5</td>\n      <td>4</td>\n      <td>5</td>\n    </tr>\n  </tbody>\n</table>\n</div>"
     },
     "metadata": {},
     "execution_count": 36
    }
   ],
   "source": [
    "scraper.scrape(n_pages=1)"
   ]
  },
  {
   "cell_type": "code",
   "execution_count": 6,
   "metadata": {
    "ExecuteTime": {
     "end_time": "2021-02-08T20:40:18.197027Z",
     "start_time": "2021-02-08T20:40:18.176085Z"
    }
   },
   "outputs": [],
   "source": [
    "scraper.get_reviews()"
   ]
  }
 ],
 "metadata": {
  "kernelspec": {
   "display_name": "Python 3",
   "language": "python",
   "name": "python3"
  },
  "language_info": {
   "codemirror_mode": {
    "name": "ipython",
    "version": 3
   },
   "file_extension": ".py",
   "mimetype": "text/x-python",
   "name": "python",
   "nbconvert_exporter": "python",
   "pygments_lexer": "ipython3",
   "version": "3.8.3-final"
  }
 },
 "nbformat": 4,
 "nbformat_minor": 4
}