{
 "cells": [
  {
   "cell_type": "code",
   "execution_count": 94,
   "metadata": {
    "ExecuteTime": {
     "end_time": "2021-02-08T15:16:00.010573Z",
     "start_time": "2021-02-08T15:15:48.494881Z"
    }
   },
   "outputs": [],
   "source": [
    "import pandas as pd\n",
    "import numpy as np\n",
    "from selenium import webdriver"
   ]
  },
  {
   "cell_type": "code",
   "execution_count": 161,
   "metadata": {
    "ExecuteTime": {
     "end_time": "2021-02-08T16:08:14.471905Z",
     "start_time": "2021-02-08T16:08:14.459939Z"
    }
   },
   "outputs": [],
   "source": [
    "class SkytraxScraper():\n",
    "    \n",
    "    def __init__(self, url):\n",
    "        self.driver = webdriver.Chrome()\n",
    "        self.driver.get(url)\n",
    "        self.data = pd.DataFrame()\n",
    "      \n",
    "    \n",
    "    def get_reviews(self):\n",
    "        self.current_reviews = self.driver.find_elements_by_xpath(\"//article[@itemprop='review']\")\n",
    "    \n",
    "    \n",
    "    @staticmethod\n",
    "    def extract_content(review):\n",
    "        date = review.find_element_by_xpath(\".//time\").get_attribute(\"datetime\")\n",
    "        title = review.find_element_by_xpath(\".//h2[@class='text_header']\").text.replace('\"', \"\")\n",
    "        content = review.find_element_by_xpath(\".//div[@class='text_content ']\").text.replace(\"✅ Trip Verified |\", \"\")\n",
    "        comment = \".\".join([title, content])\n",
    "        rating = review.find_element_by_xpath(\".//span[@itemprop='ratingValue']\").text\n",
    "        \n",
    "        return [date, comment, rating]\n",
    "        \n",
    "        \n",
    "    def scrape_current_page(self):\n",
    "        self.get_reviews()\n",
    "        for review in self.current_reviews:\n",
    "            content = self.extract_content(review)\n",
    "            self.data = self.data.append([content])\n",
    "        \n",
    "        \n",
    "    def go_to_next_page(self):\n",
    "            self.driver.find_element_by_partial_link_text(\">>\").click()\n",
    "    \n",
    "    \n",
    "    def scrape(self, n_pages=np.inf):\n",
    "        current_page_no = 1\n",
    "        while current_page_no <= n_pages:\n",
    "            print(f\"Scraping page no {current_page_no}\")\n",
    "            self.scrape_current_page()\n",
    "            try:\n",
    "                self.go_to_next_page()\n",
    "            except:\n",
    "                print(\"Last page reached.\")\n",
    "                break\n",
    "            current_page_no += 1\n",
    "        self.data.columns = [\"date\", \"comment\", \"rating\"]\n",
    "        self.data.reset_index(inplace=True, drop=True)\n",
    "        \n",
    "        return self.data"
   ]
  },
  {
   "cell_type": "code",
   "execution_count": 140,
   "metadata": {
    "ExecuteTime": {
     "end_time": "2021-02-08T15:39:25.100256Z",
     "start_time": "2021-02-08T15:38:17.827941Z"
    }
   },
   "outputs": [],
   "source": [
    "scraper = SkytraxScraper(\"https://www.airlinequality.com/airline-reviews/air-france/\")"
   ]
  },
  {
   "cell_type": "code",
   "execution_count": 141,
   "metadata": {
    "ExecuteTime": {
     "end_time": "2021-02-08T15:42:00.502298Z",
     "start_time": "2021-02-08T15:41:56.286095Z"
    }
   },
   "outputs": [
    {
     "name": "stdout",
     "output_type": "stream",
     "text": [
      "Scraping page no 1\n",
      "Scraping page no 2\n",
      "Last page reached.\n"
     ]
    },
    {
     "data": {
      "text/html": [
       "<div>\n",
       "<style scoped>\n",
       "    .dataframe tbody tr th:only-of-type {\n",
       "        vertical-align: middle;\n",
       "    }\n",
       "\n",
       "    .dataframe tbody tr th {\n",
       "        vertical-align: top;\n",
       "    }\n",
       "\n",
       "    .dataframe thead th {\n",
       "        text-align: right;\n",
       "    }\n",
       "</style>\n",
       "<table border=\"1\" class=\"dataframe\">\n",
       "  <thead>\n",
       "    <tr style=\"text-align: right;\">\n",
       "      <th></th>\n",
       "      <th>date</th>\n",
       "      <th>comment</th>\n",
       "      <th>rating</th>\n",
       "    </tr>\n",
       "  </thead>\n",
       "  <tbody>\n",
       "    <tr>\n",
       "      <th>0</th>\n",
       "      <td>2013-07-09</td>\n",
       "      <td>Air France customer review.CAI-CDG May 19 2013...</td>\n",
       "      <td>6</td>\n",
       "    </tr>\n",
       "    <tr>\n",
       "      <th>0</th>\n",
       "      <td>2013-07-08</td>\n",
       "      <td>Air France customer review.Although we bought ...</td>\n",
       "      <td>3</td>\n",
       "    </tr>\n",
       "    <tr>\n",
       "      <th>0</th>\n",
       "      <td>2013-07-07</td>\n",
       "      <td>Air France customer review.Travelled in premiu...</td>\n",
       "      <td>3</td>\n",
       "    </tr>\n",
       "    <tr>\n",
       "      <th>0</th>\n",
       "      <td>2013-07-07</td>\n",
       "      <td>Air France customer review.Went from JFK to CD...</td>\n",
       "      <td>9</td>\n",
       "    </tr>\n",
       "    <tr>\n",
       "      <th>0</th>\n",
       "      <td>2013-07-05</td>\n",
       "      <td>Air France customer review.Fly from Birmingham...</td>\n",
       "      <td>7</td>\n",
       "    </tr>\n",
       "    <tr>\n",
       "      <th>0</th>\n",
       "      <td>2013-07-04</td>\n",
       "      <td>Air France customer review.Flew from Rio/GIG t...</td>\n",
       "      <td>8</td>\n",
       "    </tr>\n",
       "    <tr>\n",
       "      <th>0</th>\n",
       "      <td>2013-07-04</td>\n",
       "      <td>Air France customer review.San Francisco to Pa...</td>\n",
       "      <td>2</td>\n",
       "    </tr>\n",
       "    <tr>\n",
       "      <th>0</th>\n",
       "      <td>2013-07-03</td>\n",
       "      <td>Air France customer review.BCN-CDG return flig...</td>\n",
       "      <td>6</td>\n",
       "    </tr>\n",
       "    <tr>\n",
       "      <th>0</th>\n",
       "      <td>2013-06-25</td>\n",
       "      <td>Air France customer review.Guangzhou - Paris 1...</td>\n",
       "      <td>6</td>\n",
       "    </tr>\n",
       "    <tr>\n",
       "      <th>0</th>\n",
       "      <td>2013-06-23</td>\n",
       "      <td>Air France customer review.BKK - LHR with shor...</td>\n",
       "      <td>8</td>\n",
       "    </tr>\n",
       "    <tr>\n",
       "      <th>0</th>\n",
       "      <td>2013-06-23</td>\n",
       "      <td>Air France customer review.Birmingham - Paris ...</td>\n",
       "      <td>1</td>\n",
       "    </tr>\n",
       "    <tr>\n",
       "      <th>0</th>\n",
       "      <td>2013-06-23</td>\n",
       "      <td>Air France customer review.CDG-MAD-CDG as part...</td>\n",
       "      <td>8</td>\n",
       "    </tr>\n",
       "    <tr>\n",
       "      <th>0</th>\n",
       "      <td>2013-06-21</td>\n",
       "      <td>Air France customer review.LAX to CGN via JFK ...</td>\n",
       "      <td>8</td>\n",
       "    </tr>\n",
       "    <tr>\n",
       "      <th>0</th>\n",
       "      <td>2013-06-21</td>\n",
       "      <td>Air France customer review.Boston - CDG in Bus...</td>\n",
       "      <td>9</td>\n",
       "    </tr>\n",
       "    <tr>\n",
       "      <th>0</th>\n",
       "      <td>2013-06-19</td>\n",
       "      <td>Air France customer review.BSL-CDG-ATH 28/5/13...</td>\n",
       "      <td>1</td>\n",
       "    </tr>\n",
       "    <tr>\n",
       "      <th>0</th>\n",
       "      <td>2013-06-16</td>\n",
       "      <td>Air France customer review.2 June 2013 Johanne...</td>\n",
       "      <td>2</td>\n",
       "    </tr>\n",
       "    <tr>\n",
       "      <th>0</th>\n",
       "      <td>2013-06-16</td>\n",
       "      <td>Air France customer review.CDG-JFK. AF-006 201...</td>\n",
       "      <td>8</td>\n",
       "    </tr>\n",
       "    <tr>\n",
       "      <th>0</th>\n",
       "      <td>2013-06-12</td>\n",
       "      <td>Air France customer review.Seoul-Paris CDG 777...</td>\n",
       "      <td>8</td>\n",
       "    </tr>\n",
       "    <tr>\n",
       "      <th>0</th>\n",
       "      <td>2013-06-09</td>\n",
       "      <td>Air France customer review.We had a connecting...</td>\n",
       "      <td>1</td>\n",
       "    </tr>\n",
       "  </tbody>\n",
       "</table>\n",
       "</div>"
      ],
      "text/plain": [
       "         date                                            comment rating\n",
       "0  2013-07-09  Air France customer review.CAI-CDG May 19 2013...      6\n",
       "0  2013-07-08  Air France customer review.Although we bought ...      3\n",
       "0  2013-07-07  Air France customer review.Travelled in premiu...      3\n",
       "0  2013-07-07  Air France customer review.Went from JFK to CD...      9\n",
       "0  2013-07-05  Air France customer review.Fly from Birmingham...      7\n",
       "0  2013-07-04  Air France customer review.Flew from Rio/GIG t...      8\n",
       "0  2013-07-04  Air France customer review.San Francisco to Pa...      2\n",
       "0  2013-07-03  Air France customer review.BCN-CDG return flig...      6\n",
       "0  2013-06-25  Air France customer review.Guangzhou - Paris 1...      6\n",
       "0  2013-06-23  Air France customer review.BKK - LHR with shor...      8\n",
       "0  2013-06-23  Air France customer review.Birmingham - Paris ...      1\n",
       "0  2013-06-23  Air France customer review.CDG-MAD-CDG as part...      8\n",
       "0  2013-06-21  Air France customer review.LAX to CGN via JFK ...      8\n",
       "0  2013-06-21  Air France customer review.Boston - CDG in Bus...      9\n",
       "0  2013-06-19  Air France customer review.BSL-CDG-ATH 28/5/13...      1\n",
       "0  2013-06-16  Air France customer review.2 June 2013 Johanne...      2\n",
       "0  2013-06-16  Air France customer review.CDG-JFK. AF-006 201...      8\n",
       "0  2013-06-12  Air France customer review.Seoul-Paris CDG 777...      8\n",
       "0  2013-06-09  Air France customer review.We had a connecting...      1"
      ]
     },
     "execution_count": 141,
     "metadata": {},
     "output_type": "execute_result"
    }
   ],
   "source": [
    "scraper.scrape(n_pages=3)"
   ]
  },
  {
   "cell_type": "code",
   "execution_count": 126,
   "metadata": {
    "ExecuteTime": {
     "end_time": "2021-02-08T15:24:09.008183Z",
     "start_time": "2021-02-08T15:24:08.975271Z"
    }
   },
   "outputs": [],
   "source": [
    "scraper.get_reviews()"
   ]
  },
  {
   "cell_type": "code",
   "execution_count": 127,
   "metadata": {
    "ExecuteTime": {
     "end_time": "2021-02-08T15:24:10.190356Z",
     "start_time": "2021-02-08T15:24:09.013170Z"
    }
   },
   "outputs": [],
   "source": [
    "scraper.scrape_current_page()"
   ]
  },
  {
   "cell_type": "code",
   "execution_count": 128,
   "metadata": {
    "ExecuteTime": {
     "end_time": "2021-02-08T15:24:10.202070Z",
     "start_time": "2021-02-08T15:24:10.192095Z"
    }
   },
   "outputs": [
    {
     "data": {
      "text/html": [
       "<div>\n",
       "<style scoped>\n",
       "    .dataframe tbody tr th:only-of-type {\n",
       "        vertical-align: middle;\n",
       "    }\n",
       "\n",
       "    .dataframe tbody tr th {\n",
       "        vertical-align: top;\n",
       "    }\n",
       "\n",
       "    .dataframe thead th {\n",
       "        text-align: right;\n",
       "    }\n",
       "</style>\n",
       "<table border=\"1\" class=\"dataframe\">\n",
       "  <thead>\n",
       "    <tr style=\"text-align: right;\">\n",
       "      <th></th>\n",
       "      <th>0</th>\n",
       "      <th>1</th>\n",
       "      <th>2</th>\n",
       "    </tr>\n",
       "  </thead>\n",
       "  <tbody>\n",
       "    <tr>\n",
       "      <th>0</th>\n",
       "      <td>2020-10-19</td>\n",
       "      <td>refused to let my mother board a flight. On 10...</td>\n",
       "      <td>1</td>\n",
       "    </tr>\n",
       "    <tr>\n",
       "      <th>0</th>\n",
       "      <td>2020-10-15</td>\n",
       "      <td>I was very impressed. I was very impressed wit...</td>\n",
       "      <td>10</td>\n",
       "    </tr>\n",
       "    <tr>\n",
       "      <th>0</th>\n",
       "      <td>2020-10-15</td>\n",
       "      <td>not allowed on board. When buying tickets Ista...</td>\n",
       "      <td>2</td>\n",
       "    </tr>\n",
       "    <tr>\n",
       "      <th>0</th>\n",
       "      <td>2020-10-11</td>\n",
       "      <td>never fly with Air France again. I purchased a...</td>\n",
       "      <td>1</td>\n",
       "    </tr>\n",
       "    <tr>\n",
       "      <th>0</th>\n",
       "      <td>2020-10-09</td>\n",
       "      <td>I will have to wait for 3 months. I had a very...</td>\n",
       "      <td>1</td>\n",
       "    </tr>\n",
       "    <tr>\n",
       "      <th>0</th>\n",
       "      <td>2020-10-04</td>\n",
       "      <td>Air France can do much better on the food. So ...</td>\n",
       "      <td>7</td>\n",
       "    </tr>\n",
       "    <tr>\n",
       "      <th>0</th>\n",
       "      <td>2020-10-04</td>\n",
       "      <td>service was extremely nice and polite. There w...</td>\n",
       "      <td>9</td>\n",
       "    </tr>\n",
       "    <tr>\n",
       "      <th>0</th>\n",
       "      <td>2020-09-09</td>\n",
       "      <td>They will check your bag weight. If your 2 pie...</td>\n",
       "      <td>1</td>\n",
       "    </tr>\n",
       "    <tr>\n",
       "      <th>0</th>\n",
       "      <td>2020-09-08</td>\n",
       "      <td>no excuse for this horrible service. In the le...</td>\n",
       "      <td>1</td>\n",
       "    </tr>\n",
       "    <tr>\n",
       "      <th>0</th>\n",
       "      <td>2020-08-24</td>\n",
       "      <td>inflight service was good. Marseilles to Athen...</td>\n",
       "      <td>9</td>\n",
       "    </tr>\n",
       "  </tbody>\n",
       "</table>\n",
       "</div>"
      ],
      "text/plain": [
       "            0                                                  1   2\n",
       "0  2020-10-19  refused to let my mother board a flight. On 10...   1\n",
       "0  2020-10-15  I was very impressed. I was very impressed wit...  10\n",
       "0  2020-10-15  not allowed on board. When buying tickets Ista...   2\n",
       "0  2020-10-11  never fly with Air France again. I purchased a...   1\n",
       "0  2020-10-09  I will have to wait for 3 months. I had a very...   1\n",
       "0  2020-10-04  Air France can do much better on the food. So ...   7\n",
       "0  2020-10-04  service was extremely nice and polite. There w...   9\n",
       "0  2020-09-09  They will check your bag weight. If your 2 pie...   1\n",
       "0  2020-09-08  no excuse for this horrible service. In the le...   1\n",
       "0  2020-08-24  inflight service was good. Marseilles to Athen...   9"
      ]
     },
     "execution_count": 128,
     "metadata": {},
     "output_type": "execute_result"
    }
   ],
   "source": [
    "scraper.data"
   ]
  },
  {
   "cell_type": "code",
   "execution_count": 142,
   "metadata": {
    "ExecuteTime": {
     "end_time": "2021-02-08T15:42:17.005262Z",
     "start_time": "2021-02-08T15:42:16.584704Z"
    }
   },
   "outputs": [],
   "source": [
    "review = scraper.current_reviews[0]\n",
    "content = scraper.extract_content(review)"
   ]
  },
  {
   "cell_type": "code",
   "execution_count": 34,
   "metadata": {
    "ExecuteTime": {
     "end_time": "2021-02-08T14:38:35.238901Z",
     "start_time": "2021-02-08T14:38:27.546726Z"
    }
   },
   "outputs": [],
   "source": [
    "scraper.go_to_next_page()"
   ]
  },
  {
   "cell_type": "code",
   "execution_count": 129,
   "metadata": {
    "ExecuteTime": {
     "end_time": "2021-02-08T15:25:12.441855Z",
     "start_time": "2021-02-08T15:25:12.436869Z"
    }
   },
   "outputs": [
    {
     "data": {
      "text/plain": [
       "inf"
      ]
     },
     "execution_count": 129,
     "metadata": {},
     "output_type": "execute_result"
    }
   ],
   "source": [
    "np.inf"
   ]
  },
  {
   "cell_type": "code",
   "execution_count": 130,
   "metadata": {
    "ExecuteTime": {
     "end_time": "2021-02-08T15:25:23.056254Z",
     "start_time": "2021-02-08T15:25:23.051225Z"
    }
   },
   "outputs": [
    {
     "data": {
      "text/plain": [
       "True"
      ]
     },
     "execution_count": 130,
     "metadata": {},
     "output_type": "execute_result"
    }
   ],
   "source": [
    "1 < np.inf"
   ]
  },
  {
   "cell_type": "code",
   "execution_count": 144,
   "metadata": {
    "ExecuteTime": {
     "end_time": "2021-02-08T15:42:27.907996Z",
     "start_time": "2021-02-08T15:42:27.903023Z"
    }
   },
   "outputs": [
    {
     "data": {
      "text/plain": [
       "selenium.webdriver.remote.webelement.WebElement"
      ]
     },
     "execution_count": 144,
     "metadata": {},
     "output_type": "execute_result"
    }
   ],
   "source": [
    "type(review)"
   ]
  },
  {
   "cell_type": "code",
   "execution_count": 170,
   "metadata": {
    "ExecuteTime": {
     "end_time": "2021-02-08T16:11:51.080520Z",
     "start_time": "2021-02-08T16:11:51.075571Z"
    }
   },
   "outputs": [],
   "source": [
    "data = pd.DataFrame([], columns=[\"date\", \"comment\", \"rating\"]) "
   ]
  },
  {
   "cell_type": "code",
   "execution_count": 162,
   "metadata": {
    "ExecuteTime": {
     "end_time": "2021-02-08T16:09:32.470762Z",
     "start_time": "2021-02-08T16:08:23.137906Z"
    }
   },
   "outputs": [
    {
     "name": "stdout",
     "output_type": "stream",
     "text": [
      "Scraping page no 1\n",
      "Scraping page no 2\n",
      "Scraping page no 3\n"
     ]
    }
   ],
   "source": [
    "scraper = SkytraxScraper(\"https://www.airlinequality.com/airline-reviews/air-france/\")\n",
    "reviews = scraper.scrape(n_pages=3)"
   ]
  },
  {
   "cell_type": "code",
   "execution_count": 165,
   "metadata": {
    "ExecuteTime": {
     "end_time": "2021-02-08T16:10:54.541081Z",
     "start_time": "2021-02-08T16:10:54.527118Z"
    }
   },
   "outputs": [
    {
     "data": {
      "text/html": [
       "<div>\n",
       "<style scoped>\n",
       "    .dataframe tbody tr th:only-of-type {\n",
       "        vertical-align: middle;\n",
       "    }\n",
       "\n",
       "    .dataframe tbody tr th {\n",
       "        vertical-align: top;\n",
       "    }\n",
       "\n",
       "    .dataframe thead th {\n",
       "        text-align: right;\n",
       "    }\n",
       "</style>\n",
       "<table border=\"1\" class=\"dataframe\">\n",
       "  <thead>\n",
       "    <tr style=\"text-align: right;\">\n",
       "      <th></th>\n",
       "      <th>date</th>\n",
       "      <th>comment</th>\n",
       "      <th>rating</th>\n",
       "    </tr>\n",
       "  </thead>\n",
       "  <tbody>\n",
       "    <tr>\n",
       "      <th>0</th>\n",
       "      <td>2020-10-19</td>\n",
       "      <td>refused to let my mother board a flight. On 10...</td>\n",
       "      <td>1</td>\n",
       "    </tr>\n",
       "    <tr>\n",
       "      <th>1</th>\n",
       "      <td>2020-10-15</td>\n",
       "      <td>I was very impressed. I was very impressed wit...</td>\n",
       "      <td>10</td>\n",
       "    </tr>\n",
       "    <tr>\n",
       "      <th>2</th>\n",
       "      <td>2020-10-15</td>\n",
       "      <td>not allowed on board. When buying tickets Ista...</td>\n",
       "      <td>2</td>\n",
       "    </tr>\n",
       "    <tr>\n",
       "      <th>3</th>\n",
       "      <td>2020-10-11</td>\n",
       "      <td>never fly with Air France again. I purchased a...</td>\n",
       "      <td>1</td>\n",
       "    </tr>\n",
       "    <tr>\n",
       "      <th>4</th>\n",
       "      <td>2020-10-09</td>\n",
       "      <td>I will have to wait for 3 months. I had a very...</td>\n",
       "      <td>1</td>\n",
       "    </tr>\n",
       "    <tr>\n",
       "      <th>5</th>\n",
       "      <td>2020-10-04</td>\n",
       "      <td>Air France can do much better on the food. So ...</td>\n",
       "      <td>7</td>\n",
       "    </tr>\n",
       "    <tr>\n",
       "      <th>6</th>\n",
       "      <td>2020-10-04</td>\n",
       "      <td>service was extremely nice and polite. There w...</td>\n",
       "      <td>9</td>\n",
       "    </tr>\n",
       "    <tr>\n",
       "      <th>7</th>\n",
       "      <td>2020-09-09</td>\n",
       "      <td>They will check your bag weight. If your 2 pie...</td>\n",
       "      <td>1</td>\n",
       "    </tr>\n",
       "    <tr>\n",
       "      <th>8</th>\n",
       "      <td>2020-09-08</td>\n",
       "      <td>no excuse for this horrible service. In the le...</td>\n",
       "      <td>1</td>\n",
       "    </tr>\n",
       "    <tr>\n",
       "      <th>9</th>\n",
       "      <td>2020-08-24</td>\n",
       "      <td>inflight service was good. Marseilles to Athen...</td>\n",
       "      <td>9</td>\n",
       "    </tr>\n",
       "    <tr>\n",
       "      <th>10</th>\n",
       "      <td>2020-08-18</td>\n",
       "      <td>no trace of baggage.Not Verified | Other than ...</td>\n",
       "      <td>1</td>\n",
       "    </tr>\n",
       "    <tr>\n",
       "      <th>11</th>\n",
       "      <td>2020-08-07</td>\n",
       "      <td>had the mask only on the chin. Today as I boar...</td>\n",
       "      <td>5</td>\n",
       "    </tr>\n",
       "    <tr>\n",
       "      <th>12</th>\n",
       "      <td>2020-07-24</td>\n",
       "      <td>no refund, no information. Our flights Paris -...</td>\n",
       "      <td>1</td>\n",
       "    </tr>\n",
       "    <tr>\n",
       "      <th>13</th>\n",
       "      <td>2020-07-20</td>\n",
       "      <td>my ticket is non refundable. I have been tryin...</td>\n",
       "      <td>1</td>\n",
       "    </tr>\n",
       "    <tr>\n",
       "      <th>14</th>\n",
       "      <td>2020-06-16</td>\n",
       "      <td>answer that I should contact KLM service. My K...</td>\n",
       "      <td>1</td>\n",
       "    </tr>\n",
       "    <tr>\n",
       "      <th>15</th>\n",
       "      <td>2020-05-23</td>\n",
       "      <td>our first choice of airline.Not Verified | My ...</td>\n",
       "      <td>10</td>\n",
       "    </tr>\n",
       "    <tr>\n",
       "      <th>16</th>\n",
       "      <td>2020-05-19</td>\n",
       "      <td>well trained and friendly staff.Not Verified |...</td>\n",
       "      <td>9</td>\n",
       "    </tr>\n",
       "    <tr>\n",
       "      <th>17</th>\n",
       "      <td>2020-05-15</td>\n",
       "      <td>I am overall satisfied. I decided to fly with ...</td>\n",
       "      <td>8</td>\n",
       "    </tr>\n",
       "    <tr>\n",
       "      <th>18</th>\n",
       "      <td>2020-05-12</td>\n",
       "      <td>request for refund was denied. Frankfurt to Qu...</td>\n",
       "      <td>1</td>\n",
       "    </tr>\n",
       "    <tr>\n",
       "      <th>19</th>\n",
       "      <td>2020-04-24</td>\n",
       "      <td>complete and utter nightmare.Not Verified | Bo...</td>\n",
       "      <td>1</td>\n",
       "    </tr>\n",
       "    <tr>\n",
       "      <th>20</th>\n",
       "      <td>2020-04-13</td>\n",
       "      <td>I really enjoyed the food.Not Verified | I hav...</td>\n",
       "      <td>8</td>\n",
       "    </tr>\n",
       "    <tr>\n",
       "      <th>21</th>\n",
       "      <td>2020-04-11</td>\n",
       "      <td>give you the voucher. Paris to Tel Aviv. I boo...</td>\n",
       "      <td>9</td>\n",
       "    </tr>\n",
       "    <tr>\n",
       "      <th>22</th>\n",
       "      <td>2020-03-24</td>\n",
       "      <td>My experience was bad. New York to Paris. This...</td>\n",
       "      <td>1</td>\n",
       "    </tr>\n",
       "    <tr>\n",
       "      <th>23</th>\n",
       "      <td>2020-03-18</td>\n",
       "      <td>I never got to travel. Cairo to Oslo via Paris...</td>\n",
       "      <td>1</td>\n",
       "    </tr>\n",
       "    <tr>\n",
       "      <th>24</th>\n",
       "      <td>2020-03-14</td>\n",
       "      <td>no way I can contact them.Not Verified | Oslo ...</td>\n",
       "      <td>1</td>\n",
       "    </tr>\n",
       "    <tr>\n",
       "      <th>25</th>\n",
       "      <td>2020-03-11</td>\n",
       "      <td>I am unable to get a refund. I had booked a fl...</td>\n",
       "      <td>1</td>\n",
       "    </tr>\n",
       "    <tr>\n",
       "      <th>26</th>\n",
       "      <td>2020-03-04</td>\n",
       "      <td>decided to postpone the trip. We had booked 2 ...</td>\n",
       "      <td>1</td>\n",
       "    </tr>\n",
       "    <tr>\n",
       "      <th>27</th>\n",
       "      <td>2020-03-02</td>\n",
       "      <td>went to Düsseldorf by train. Paris to Dusseldo...</td>\n",
       "      <td>1</td>\n",
       "    </tr>\n",
       "    <tr>\n",
       "      <th>28</th>\n",
       "      <td>2020-02-27</td>\n",
       "      <td>will never choose this carrier again.Not Verif...</td>\n",
       "      <td>1</td>\n",
       "    </tr>\n",
       "    <tr>\n",
       "      <th>29</th>\n",
       "      <td>2020-02-24</td>\n",
       "      <td>substituted an economy flight. Brisbane to Par...</td>\n",
       "      <td>1</td>\n",
       "    </tr>\n",
       "  </tbody>\n",
       "</table>\n",
       "</div>"
      ],
      "text/plain": [
       "          date                                            comment rating\n",
       "0   2020-10-19  refused to let my mother board a flight. On 10...      1\n",
       "1   2020-10-15  I was very impressed. I was very impressed wit...     10\n",
       "2   2020-10-15  not allowed on board. When buying tickets Ista...      2\n",
       "3   2020-10-11  never fly with Air France again. I purchased a...      1\n",
       "4   2020-10-09  I will have to wait for 3 months. I had a very...      1\n",
       "5   2020-10-04  Air France can do much better on the food. So ...      7\n",
       "6   2020-10-04  service was extremely nice and polite. There w...      9\n",
       "7   2020-09-09  They will check your bag weight. If your 2 pie...      1\n",
       "8   2020-09-08  no excuse for this horrible service. In the le...      1\n",
       "9   2020-08-24  inflight service was good. Marseilles to Athen...      9\n",
       "10  2020-08-18  no trace of baggage.Not Verified | Other than ...      1\n",
       "11  2020-08-07  had the mask only on the chin. Today as I boar...      5\n",
       "12  2020-07-24  no refund, no information. Our flights Paris -...      1\n",
       "13  2020-07-20  my ticket is non refundable. I have been tryin...      1\n",
       "14  2020-06-16  answer that I should contact KLM service. My K...      1\n",
       "15  2020-05-23  our first choice of airline.Not Verified | My ...     10\n",
       "16  2020-05-19  well trained and friendly staff.Not Verified |...      9\n",
       "17  2020-05-15  I am overall satisfied. I decided to fly with ...      8\n",
       "18  2020-05-12  request for refund was denied. Frankfurt to Qu...      1\n",
       "19  2020-04-24  complete and utter nightmare.Not Verified | Bo...      1\n",
       "20  2020-04-13  I really enjoyed the food.Not Verified | I hav...      8\n",
       "21  2020-04-11  give you the voucher. Paris to Tel Aviv. I boo...      9\n",
       "22  2020-03-24  My experience was bad. New York to Paris. This...      1\n",
       "23  2020-03-18  I never got to travel. Cairo to Oslo via Paris...      1\n",
       "24  2020-03-14  no way I can contact them.Not Verified | Oslo ...      1\n",
       "25  2020-03-11  I am unable to get a refund. I had booked a fl...      1\n",
       "26  2020-03-04  decided to postpone the trip. We had booked 2 ...      1\n",
       "27  2020-03-02  went to Düsseldorf by train. Paris to Dusseldo...      1\n",
       "28  2020-02-27  will never choose this carrier again.Not Verif...      1\n",
       "29  2020-02-24  substituted an economy flight. Brisbane to Par...      1"
      ]
     },
     "execution_count": 165,
     "metadata": {},
     "output_type": "execute_result"
    }
   ],
   "source": [
    "reviews"
   ]
  },
  {
   "cell_type": "code",
   "execution_count": 171,
   "metadata": {
    "ExecuteTime": {
     "end_time": "2021-02-08T16:12:01.102941Z",
     "start_time": "2021-02-08T16:12:01.098950Z"
    }
   },
   "outputs": [],
   "source": [
    "data = data.append(reviews, ignore_index=True)"
   ]
  },
  {
   "cell_type": "code",
   "execution_count": 167,
   "metadata": {
    "ExecuteTime": {
     "end_time": "2021-02-08T16:11:13.839086Z",
     "start_time": "2021-02-08T16:11:13.828076Z"
    }
   },
   "outputs": [
    {
     "data": {
      "text/html": [
       "<div>\n",
       "<style scoped>\n",
       "    .dataframe tbody tr th:only-of-type {\n",
       "        vertical-align: middle;\n",
       "    }\n",
       "\n",
       "    .dataframe tbody tr th {\n",
       "        vertical-align: top;\n",
       "    }\n",
       "\n",
       "    .dataframe thead th {\n",
       "        text-align: right;\n",
       "    }\n",
       "</style>\n",
       "<table border=\"1\" class=\"dataframe\">\n",
       "  <thead>\n",
       "    <tr style=\"text-align: right;\">\n",
       "      <th></th>\n",
       "      <th>date</th>\n",
       "      <th>comment</th>\n",
       "      <th>rating</th>\n",
       "      <th>index</th>\n",
       "    </tr>\n",
       "  </thead>\n",
       "  <tbody>\n",
       "    <tr>\n",
       "      <th>0</th>\n",
       "      <td>2020-10-19</td>\n",
       "      <td>refused to let my mother board a flight. On 10...</td>\n",
       "      <td>1</td>\n",
       "      <td>0.0</td>\n",
       "    </tr>\n",
       "    <tr>\n",
       "      <th>1</th>\n",
       "      <td>2020-10-15</td>\n",
       "      <td>I was very impressed. I was very impressed wit...</td>\n",
       "      <td>10</td>\n",
       "      <td>0.0</td>\n",
       "    </tr>\n",
       "    <tr>\n",
       "      <th>2</th>\n",
       "      <td>2020-10-15</td>\n",
       "      <td>not allowed on board. When buying tickets Ista...</td>\n",
       "      <td>2</td>\n",
       "      <td>0.0</td>\n",
       "    </tr>\n",
       "    <tr>\n",
       "      <th>3</th>\n",
       "      <td>2020-10-11</td>\n",
       "      <td>never fly with Air France again. I purchased a...</td>\n",
       "      <td>1</td>\n",
       "      <td>0.0</td>\n",
       "    </tr>\n",
       "    <tr>\n",
       "      <th>4</th>\n",
       "      <td>2020-10-09</td>\n",
       "      <td>I will have to wait for 3 months. I had a very...</td>\n",
       "      <td>1</td>\n",
       "      <td>0.0</td>\n",
       "    </tr>\n",
       "  </tbody>\n",
       "</table>\n",
       "</div>"
      ],
      "text/plain": [
       "         date                                            comment rating  index\n",
       "0  2020-10-19  refused to let my mother board a flight. On 10...      1    0.0\n",
       "1  2020-10-15  I was very impressed. I was very impressed wit...     10    0.0\n",
       "2  2020-10-15  not allowed on board. When buying tickets Ista...      2    0.0\n",
       "3  2020-10-11  never fly with Air France again. I purchased a...      1    0.0\n",
       "4  2020-10-09  I will have to wait for 3 months. I had a very...      1    0.0"
      ]
     },
     "execution_count": 167,
     "metadata": {},
     "output_type": "execute_result"
    }
   ],
   "source": [
    "data.head()"
   ]
  },
  {
   "cell_type": "code",
   "execution_count": 174,
   "metadata": {
    "ExecuteTime": {
     "end_time": "2021-02-08T16:13:06.181091Z",
     "start_time": "2021-02-08T16:13:06.176106Z"
    }
   },
   "outputs": [
    {
     "data": {
      "text/plain": [
       "(30, 3)"
      ]
     },
     "execution_count": 174,
     "metadata": {},
     "output_type": "execute_result"
    }
   ],
   "source": [
    "data.shape"
   ]
  },
  {
   "cell_type": "code",
   "execution_count": 175,
   "metadata": {
    "ExecuteTime": {
     "end_time": "2021-02-08T16:14:53.741457Z",
     "start_time": "2021-02-08T16:13:28.018518Z"
    }
   },
   "outputs": [
    {
     "name": "stdout",
     "output_type": "stream",
     "text": [
      "Scraping page no 1\n",
      "Scraping page no 2\n",
      "Scraping page no 3\n"
     ]
    }
   ],
   "source": [
    "scraper = SkytraxScraper(\"https://www.airlinequality.com/airline-reviews/delta-air-lines\")\n",
    "reviews = scraper.scrape(n_pages=3)"
   ]
  },
  {
   "cell_type": "code",
   "execution_count": 176,
   "metadata": {
    "ExecuteTime": {
     "end_time": "2021-02-08T16:14:53.751396Z",
     "start_time": "2021-02-08T16:14:53.744414Z"
    }
   },
   "outputs": [],
   "source": [
    "    data = data.append(reviews, ignore_index=True)"
   ]
  },
  {
   "cell_type": "code",
   "execution_count": 177,
   "metadata": {
    "ExecuteTime": {
     "end_time": "2021-02-08T16:15:24.144138Z",
     "start_time": "2021-02-08T16:15:24.133167Z"
    }
   },
   "outputs": [
    {
     "data": {
      "text/html": [
       "<div>\n",
       "<style scoped>\n",
       "    .dataframe tbody tr th:only-of-type {\n",
       "        vertical-align: middle;\n",
       "    }\n",
       "\n",
       "    .dataframe tbody tr th {\n",
       "        vertical-align: top;\n",
       "    }\n",
       "\n",
       "    .dataframe thead th {\n",
       "        text-align: right;\n",
       "    }\n",
       "</style>\n",
       "<table border=\"1\" class=\"dataframe\">\n",
       "  <thead>\n",
       "    <tr style=\"text-align: right;\">\n",
       "      <th></th>\n",
       "      <th>date</th>\n",
       "      <th>comment</th>\n",
       "      <th>rating</th>\n",
       "    </tr>\n",
       "  </thead>\n",
       "  <tbody>\n",
       "    <tr>\n",
       "      <th>0</th>\n",
       "      <td>2020-10-19</td>\n",
       "      <td>refused to let my mother board a flight. On 10...</td>\n",
       "      <td>1</td>\n",
       "    </tr>\n",
       "    <tr>\n",
       "      <th>1</th>\n",
       "      <td>2020-10-15</td>\n",
       "      <td>I was very impressed. I was very impressed wit...</td>\n",
       "      <td>10</td>\n",
       "    </tr>\n",
       "    <tr>\n",
       "      <th>2</th>\n",
       "      <td>2020-10-15</td>\n",
       "      <td>not allowed on board. When buying tickets Ista...</td>\n",
       "      <td>2</td>\n",
       "    </tr>\n",
       "    <tr>\n",
       "      <th>3</th>\n",
       "      <td>2020-10-11</td>\n",
       "      <td>never fly with Air France again. I purchased a...</td>\n",
       "      <td>1</td>\n",
       "    </tr>\n",
       "    <tr>\n",
       "      <th>4</th>\n",
       "      <td>2020-10-09</td>\n",
       "      <td>I will have to wait for 3 months. I had a very...</td>\n",
       "      <td>1</td>\n",
       "    </tr>\n",
       "  </tbody>\n",
       "</table>\n",
       "</div>"
      ],
      "text/plain": [
       "         date                                            comment rating\n",
       "0  2020-10-19  refused to let my mother board a flight. On 10...      1\n",
       "1  2020-10-15  I was very impressed. I was very impressed wit...     10\n",
       "2  2020-10-15  not allowed on board. When buying tickets Ista...      2\n",
       "3  2020-10-11  never fly with Air France again. I purchased a...      1\n",
       "4  2020-10-09  I will have to wait for 3 months. I had a very...      1"
      ]
     },
     "execution_count": 177,
     "metadata": {},
     "output_type": "execute_result"
    }
   ],
   "source": [
    "data.head()"
   ]
  },
  {
   "cell_type": "code",
   "execution_count": 178,
   "metadata": {
    "ExecuteTime": {
     "end_time": "2021-02-08T16:15:28.046566Z",
     "start_time": "2021-02-08T16:15:28.041550Z"
    }
   },
   "outputs": [
    {
     "data": {
      "text/plain": [
       "(60, 3)"
      ]
     },
     "execution_count": 178,
     "metadata": {},
     "output_type": "execute_result"
    }
   ],
   "source": [
    "data.shape"
   ]
  },
  {
   "cell_type": "code",
   "execution_count": 179,
   "metadata": {
    "ExecuteTime": {
     "end_time": "2021-02-08T17:15:00.204794Z",
     "start_time": "2021-02-08T17:14:57.977324Z"
    }
   },
   "outputs": [],
   "source": [
    "data.to_csv(\"../data/test.csv\", index=False)"
   ]
  },
  {
   "cell_type": "code",
   "execution_count": null,
   "metadata": {},
   "outputs": [],
   "source": []
  }
 ],
 "metadata": {
  "kernelspec": {
   "display_name": "Python 3",
   "language": "python",
   "name": "python3"
  },
  "language_info": {
   "codemirror_mode": {
    "name": "ipython",
    "version": 3
   },
   "file_extension": ".py",
   "mimetype": "text/x-python",
   "name": "python",
   "nbconvert_exporter": "python",
   "pygments_lexer": "ipython3",
   "version": "3.8.3"
  }
 },
 "nbformat": 4,
 "nbformat_minor": 4
}
