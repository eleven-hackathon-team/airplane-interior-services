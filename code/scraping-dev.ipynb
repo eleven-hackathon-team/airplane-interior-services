{
 "cells": [
  {
   "cell_type": "code",
   "execution_count": 94,
   "metadata": {
    "ExecuteTime": {
     "end_time": "2021-02-08T15:16:00.010573Z",
     "start_time": "2021-02-08T15:15:48.494881Z"
    }
   },
   "outputs": [],
   "source": [
    "import pandas as pd\n",
    "import numpy as np\n",
    "from selenium import webdriver"
   ]
  },
  {
   "cell_type": "code",
   "execution_count": 136,
   "metadata": {
    "ExecuteTime": {
     "end_time": "2021-02-08T15:31:40.502904Z",
     "start_time": "2021-02-08T15:31:38.490881Z"
    }
   },
   "outputs": [],
   "source": [
    "class SkytraxScraper():\n",
    "    \n",
    "    def __init__(self, url):\n",
    "        self.driver = webdriver.Chrome()\n",
    "        self.driver.get(url)\n",
    "        self.data = pd.DataFrame()\n",
    "      \n",
    "    \n",
    "    def get_reviews(self):\n",
    "        self.current_reviews = self.driver.find_elements_by_xpath(\"//article[@itemprop='review']\")\n",
    "    \n",
    "    \n",
    "    @staticmethod\n",
    "    def extract_content(review):\n",
    "        date = review.find_element_by_xpath(\".//time\").get_attribute(\"datetime\")\n",
    "        title = review.find_element_by_xpath(\".//h2[@class='text_header']\").text.replace('\"', \"\")\n",
    "        content = review.find_element_by_xpath(\".//div[@class='text_content ']\").text.replace(\"✅ Trip Verified |\", \"\")\n",
    "        comment = \".\".join([title, content])\n",
    "        rating = review.find_element_by_xpath(\".//span[@itemprop='ratingValue']\").text\n",
    "        \n",
    "        return [date, comment, rating]\n",
    "        \n",
    "        \n",
    "    def scrape_current_page(self):\n",
    "        self.get_reviews()\n",
    "        for review in self.current_reviews:\n",
    "            content = self.extract_content(review)\n",
    "            self.data = self.data.append([content])\n",
    "        \n",
    "        \n",
    "    def go_to_next_page(self):\n",
    "            self.driver.find_element_by_partial_link_text(\">>\").click()\n",
    "    \n",
    "    \n",
    "    def scrape(self, n_pages=np.inf):\n",
    "        current_page_no = 1\n",
    "        while current_page_no <= n_pages:\n",
    "            print(f\"Scraping page no {current_page_no}\")\n",
    "            self.scrape_current_page()\n",
    "            try:\n",
    "                self.go_to_next_page()\n",
    "            except:\n",
    "                print(\"Last page reached.\")\n",
    "                break\n",
    "            current_page_no += 1\n",
    "        self.data.columns = [\"date\", \"comment\", \"rating\"]\n",
    "        \n",
    "        return self.data"
   ]
  },
  {
   "cell_type": "code",
   "execution_count": 140,
   "metadata": {
    "ExecuteTime": {
     "end_time": "2021-02-08T15:39:25.100256Z",
     "start_time": "2021-02-08T15:38:17.827941Z"
    }
   },
   "outputs": [],
   "source": [
    "scraper = SkytraxScraper(\"https://www.airlinequality.com/airline-reviews/air-france/\")"
   ]
  },
  {
   "cell_type": "code",
   "execution_count": 141,
   "metadata": {
    "ExecuteTime": {
     "end_time": "2021-02-08T15:42:00.502298Z",
     "start_time": "2021-02-08T15:41:56.286095Z"
    }
   },
   "outputs": [
    {
     "name": "stdout",
     "output_type": "stream",
     "text": [
      "Scraping page no 1\n",
      "Scraping page no 2\n",
      "Last page reached.\n"
     ]
    },
    {
     "data": {
      "text/html": [
       "<div>\n",
       "<style scoped>\n",
       "    .dataframe tbody tr th:only-of-type {\n",
       "        vertical-align: middle;\n",
       "    }\n",
       "\n",
       "    .dataframe tbody tr th {\n",
       "        vertical-align: top;\n",
       "    }\n",
       "\n",
       "    .dataframe thead th {\n",
       "        text-align: right;\n",
       "    }\n",
       "</style>\n",
       "<table border=\"1\" class=\"dataframe\">\n",
       "  <thead>\n",
       "    <tr style=\"text-align: right;\">\n",
       "      <th></th>\n",
       "      <th>date</th>\n",
       "      <th>comment</th>\n",
       "      <th>rating</th>\n",
       "    </tr>\n",
       "  </thead>\n",
       "  <tbody>\n",
       "    <tr>\n",
       "      <th>0</th>\n",
       "      <td>2013-07-09</td>\n",
       "      <td>Air France customer review.CAI-CDG May 19 2013...</td>\n",
       "      <td>6</td>\n",
       "    </tr>\n",
       "    <tr>\n",
       "      <th>0</th>\n",
       "      <td>2013-07-08</td>\n",
       "      <td>Air France customer review.Although we bought ...</td>\n",
       "      <td>3</td>\n",
       "    </tr>\n",
       "    <tr>\n",
       "      <th>0</th>\n",
       "      <td>2013-07-07</td>\n",
       "      <td>Air France customer review.Travelled in premiu...</td>\n",
       "      <td>3</td>\n",
       "    </tr>\n",
       "    <tr>\n",
       "      <th>0</th>\n",
       "      <td>2013-07-07</td>\n",
       "      <td>Air France customer review.Went from JFK to CD...</td>\n",
       "      <td>9</td>\n",
       "    </tr>\n",
       "    <tr>\n",
       "      <th>0</th>\n",
       "      <td>2013-07-05</td>\n",
       "      <td>Air France customer review.Fly from Birmingham...</td>\n",
       "      <td>7</td>\n",
       "    </tr>\n",
       "    <tr>\n",
       "      <th>0</th>\n",
       "      <td>2013-07-04</td>\n",
       "      <td>Air France customer review.Flew from Rio/GIG t...</td>\n",
       "      <td>8</td>\n",
       "    </tr>\n",
       "    <tr>\n",
       "      <th>0</th>\n",
       "      <td>2013-07-04</td>\n",
       "      <td>Air France customer review.San Francisco to Pa...</td>\n",
       "      <td>2</td>\n",
       "    </tr>\n",
       "    <tr>\n",
       "      <th>0</th>\n",
       "      <td>2013-07-03</td>\n",
       "      <td>Air France customer review.BCN-CDG return flig...</td>\n",
       "      <td>6</td>\n",
       "    </tr>\n",
       "    <tr>\n",
       "      <th>0</th>\n",
       "      <td>2013-06-25</td>\n",
       "      <td>Air France customer review.Guangzhou - Paris 1...</td>\n",
       "      <td>6</td>\n",
       "    </tr>\n",
       "    <tr>\n",
       "      <th>0</th>\n",
       "      <td>2013-06-23</td>\n",
       "      <td>Air France customer review.BKK - LHR with shor...</td>\n",
       "      <td>8</td>\n",
       "    </tr>\n",
       "    <tr>\n",
       "      <th>0</th>\n",
       "      <td>2013-06-23</td>\n",
       "      <td>Air France customer review.Birmingham - Paris ...</td>\n",
       "      <td>1</td>\n",
       "    </tr>\n",
       "    <tr>\n",
       "      <th>0</th>\n",
       "      <td>2013-06-23</td>\n",
       "      <td>Air France customer review.CDG-MAD-CDG as part...</td>\n",
       "      <td>8</td>\n",
       "    </tr>\n",
       "    <tr>\n",
       "      <th>0</th>\n",
       "      <td>2013-06-21</td>\n",
       "      <td>Air France customer review.LAX to CGN via JFK ...</td>\n",
       "      <td>8</td>\n",
       "    </tr>\n",
       "    <tr>\n",
       "      <th>0</th>\n",
       "      <td>2013-06-21</td>\n",
       "      <td>Air France customer review.Boston - CDG in Bus...</td>\n",
       "      <td>9</td>\n",
       "    </tr>\n",
       "    <tr>\n",
       "      <th>0</th>\n",
       "      <td>2013-06-19</td>\n",
       "      <td>Air France customer review.BSL-CDG-ATH 28/5/13...</td>\n",
       "      <td>1</td>\n",
       "    </tr>\n",
       "    <tr>\n",
       "      <th>0</th>\n",
       "      <td>2013-06-16</td>\n",
       "      <td>Air France customer review.2 June 2013 Johanne...</td>\n",
       "      <td>2</td>\n",
       "    </tr>\n",
       "    <tr>\n",
       "      <th>0</th>\n",
       "      <td>2013-06-16</td>\n",
       "      <td>Air France customer review.CDG-JFK. AF-006 201...</td>\n",
       "      <td>8</td>\n",
       "    </tr>\n",
       "    <tr>\n",
       "      <th>0</th>\n",
       "      <td>2013-06-12</td>\n",
       "      <td>Air France customer review.Seoul-Paris CDG 777...</td>\n",
       "      <td>8</td>\n",
       "    </tr>\n",
       "    <tr>\n",
       "      <th>0</th>\n",
       "      <td>2013-06-09</td>\n",
       "      <td>Air France customer review.We had a connecting...</td>\n",
       "      <td>1</td>\n",
       "    </tr>\n",
       "  </tbody>\n",
       "</table>\n",
       "</div>"
      ],
      "text/plain": [
       "         date                                            comment rating\n",
       "0  2013-07-09  Air France customer review.CAI-CDG May 19 2013...      6\n",
       "0  2013-07-08  Air France customer review.Although we bought ...      3\n",
       "0  2013-07-07  Air France customer review.Travelled in premiu...      3\n",
       "0  2013-07-07  Air France customer review.Went from JFK to CD...      9\n",
       "0  2013-07-05  Air France customer review.Fly from Birmingham...      7\n",
       "0  2013-07-04  Air France customer review.Flew from Rio/GIG t...      8\n",
       "0  2013-07-04  Air France customer review.San Francisco to Pa...      2\n",
       "0  2013-07-03  Air France customer review.BCN-CDG return flig...      6\n",
       "0  2013-06-25  Air France customer review.Guangzhou - Paris 1...      6\n",
       "0  2013-06-23  Air France customer review.BKK - LHR with shor...      8\n",
       "0  2013-06-23  Air France customer review.Birmingham - Paris ...      1\n",
       "0  2013-06-23  Air France customer review.CDG-MAD-CDG as part...      8\n",
       "0  2013-06-21  Air France customer review.LAX to CGN via JFK ...      8\n",
       "0  2013-06-21  Air France customer review.Boston - CDG in Bus...      9\n",
       "0  2013-06-19  Air France customer review.BSL-CDG-ATH 28/5/13...      1\n",
       "0  2013-06-16  Air France customer review.2 June 2013 Johanne...      2\n",
       "0  2013-06-16  Air France customer review.CDG-JFK. AF-006 201...      8\n",
       "0  2013-06-12  Air France customer review.Seoul-Paris CDG 777...      8\n",
       "0  2013-06-09  Air France customer review.We had a connecting...      1"
      ]
     },
     "execution_count": 141,
     "metadata": {},
     "output_type": "execute_result"
    }
   ],
   "source": [
    "scraper.scrape(n_pages=3)"
   ]
  },
  {
   "cell_type": "code",
   "execution_count": 126,
   "metadata": {
    "ExecuteTime": {
     "end_time": "2021-02-08T15:24:09.008183Z",
     "start_time": "2021-02-08T15:24:08.975271Z"
    }
   },
   "outputs": [],
   "source": [
    "scraper.get_reviews()"
   ]
  },
  {
   "cell_type": "code",
   "execution_count": 127,
   "metadata": {
    "ExecuteTime": {
     "end_time": "2021-02-08T15:24:10.190356Z",
     "start_time": "2021-02-08T15:24:09.013170Z"
    }
   },
   "outputs": [],
   "source": [
    "scraper.scrape_current_page()"
   ]
  },
  {
   "cell_type": "code",
   "execution_count": 128,
   "metadata": {
    "ExecuteTime": {
     "end_time": "2021-02-08T15:24:10.202070Z",
     "start_time": "2021-02-08T15:24:10.192095Z"
    }
   },
   "outputs": [
    {
     "data": {
      "text/html": [
       "<div>\n",
       "<style scoped>\n",
       "    .dataframe tbody tr th:only-of-type {\n",
       "        vertical-align: middle;\n",
       "    }\n",
       "\n",
       "    .dataframe tbody tr th {\n",
       "        vertical-align: top;\n",
       "    }\n",
       "\n",
       "    .dataframe thead th {\n",
       "        text-align: right;\n",
       "    }\n",
       "</style>\n",
       "<table border=\"1\" class=\"dataframe\">\n",
       "  <thead>\n",
       "    <tr style=\"text-align: right;\">\n",
       "      <th></th>\n",
       "      <th>0</th>\n",
       "      <th>1</th>\n",
       "      <th>2</th>\n",
       "    </tr>\n",
       "  </thead>\n",
       "  <tbody>\n",
       "    <tr>\n",
       "      <th>0</th>\n",
       "      <td>2020-10-19</td>\n",
       "      <td>refused to let my mother board a flight. On 10...</td>\n",
       "      <td>1</td>\n",
       "    </tr>\n",
       "    <tr>\n",
       "      <th>0</th>\n",
       "      <td>2020-10-15</td>\n",
       "      <td>I was very impressed. I was very impressed wit...</td>\n",
       "      <td>10</td>\n",
       "    </tr>\n",
       "    <tr>\n",
       "      <th>0</th>\n",
       "      <td>2020-10-15</td>\n",
       "      <td>not allowed on board. When buying tickets Ista...</td>\n",
       "      <td>2</td>\n",
       "    </tr>\n",
       "    <tr>\n",
       "      <th>0</th>\n",
       "      <td>2020-10-11</td>\n",
       "      <td>never fly with Air France again. I purchased a...</td>\n",
       "      <td>1</td>\n",
       "    </tr>\n",
       "    <tr>\n",
       "      <th>0</th>\n",
       "      <td>2020-10-09</td>\n",
       "      <td>I will have to wait for 3 months. I had a very...</td>\n",
       "      <td>1</td>\n",
       "    </tr>\n",
       "    <tr>\n",
       "      <th>0</th>\n",
       "      <td>2020-10-04</td>\n",
       "      <td>Air France can do much better on the food. So ...</td>\n",
       "      <td>7</td>\n",
       "    </tr>\n",
       "    <tr>\n",
       "      <th>0</th>\n",
       "      <td>2020-10-04</td>\n",
       "      <td>service was extremely nice and polite. There w...</td>\n",
       "      <td>9</td>\n",
       "    </tr>\n",
       "    <tr>\n",
       "      <th>0</th>\n",
       "      <td>2020-09-09</td>\n",
       "      <td>They will check your bag weight. If your 2 pie...</td>\n",
       "      <td>1</td>\n",
       "    </tr>\n",
       "    <tr>\n",
       "      <th>0</th>\n",
       "      <td>2020-09-08</td>\n",
       "      <td>no excuse for this horrible service. In the le...</td>\n",
       "      <td>1</td>\n",
       "    </tr>\n",
       "    <tr>\n",
       "      <th>0</th>\n",
       "      <td>2020-08-24</td>\n",
       "      <td>inflight service was good. Marseilles to Athen...</td>\n",
       "      <td>9</td>\n",
       "    </tr>\n",
       "  </tbody>\n",
       "</table>\n",
       "</div>"
      ],
      "text/plain": [
       "            0                                                  1   2\n",
       "0  2020-10-19  refused to let my mother board a flight. On 10...   1\n",
       "0  2020-10-15  I was very impressed. I was very impressed wit...  10\n",
       "0  2020-10-15  not allowed on board. When buying tickets Ista...   2\n",
       "0  2020-10-11  never fly with Air France again. I purchased a...   1\n",
       "0  2020-10-09  I will have to wait for 3 months. I had a very...   1\n",
       "0  2020-10-04  Air France can do much better on the food. So ...   7\n",
       "0  2020-10-04  service was extremely nice and polite. There w...   9\n",
       "0  2020-09-09  They will check your bag weight. If your 2 pie...   1\n",
       "0  2020-09-08  no excuse for this horrible service. In the le...   1\n",
       "0  2020-08-24  inflight service was good. Marseilles to Athen...   9"
      ]
     },
     "execution_count": 128,
     "metadata": {},
     "output_type": "execute_result"
    }
   ],
   "source": [
    "scraper.data"
   ]
  },
  {
   "cell_type": "code",
   "execution_count": 142,
   "metadata": {
    "ExecuteTime": {
     "end_time": "2021-02-08T15:42:17.005262Z",
     "start_time": "2021-02-08T15:42:16.584704Z"
    }
   },
   "outputs": [],
   "source": [
    "review = scraper.current_reviews[0]\n",
    "content = scraper.extract_content(review)"
   ]
  },
  {
   "cell_type": "code",
   "execution_count": 34,
   "metadata": {
    "ExecuteTime": {
     "end_time": "2021-02-08T14:38:35.238901Z",
     "start_time": "2021-02-08T14:38:27.546726Z"
    }
   },
   "outputs": [],
   "source": [
    "scraper.go_to_next_page()"
   ]
  },
  {
   "cell_type": "code",
   "execution_count": 129,
   "metadata": {
    "ExecuteTime": {
     "end_time": "2021-02-08T15:25:12.441855Z",
     "start_time": "2021-02-08T15:25:12.436869Z"
    }
   },
   "outputs": [
    {
     "data": {
      "text/plain": [
       "inf"
      ]
     },
     "execution_count": 129,
     "metadata": {},
     "output_type": "execute_result"
    }
   ],
   "source": [
    "np.inf"
   ]
  },
  {
   "cell_type": "code",
   "execution_count": 130,
   "metadata": {
    "ExecuteTime": {
     "end_time": "2021-02-08T15:25:23.056254Z",
     "start_time": "2021-02-08T15:25:23.051225Z"
    }
   },
   "outputs": [
    {
     "data": {
      "text/plain": [
       "True"
      ]
     },
     "execution_count": 130,
     "metadata": {},
     "output_type": "execute_result"
    }
   ],
   "source": [
    "1 < np.inf"
   ]
  },
  {
   "cell_type": "code",
   "execution_count": 144,
   "metadata": {
    "ExecuteTime": {
     "end_time": "2021-02-08T15:42:27.907996Z",
     "start_time": "2021-02-08T15:42:27.903023Z"
    }
   },
   "outputs": [
    {
     "data": {
      "text/plain": [
       "selenium.webdriver.remote.webelement.WebElement"
      ]
     },
     "execution_count": 144,
     "metadata": {},
     "output_type": "execute_result"
    }
   ],
   "source": [
    "type(review)"
   ]
  },
  {
   "cell_type": "code",
   "execution_count": null,
   "metadata": {},
   "outputs": [],
   "source": []
  }
 ],
 "metadata": {
  "kernelspec": {
   "display_name": "Python 3",
   "language": "python",
   "name": "python3"
  },
  "language_info": {
   "codemirror_mode": {
    "name": "ipython",
    "version": 3
   },
   "file_extension": ".py",
   "mimetype": "text/x-python",
   "name": "python",
   "nbconvert_exporter": "python",
   "pygments_lexer": "ipython3",
   "version": "3.8.3"
  }
 },
 "nbformat": 4,
 "nbformat_minor": 4
}
