{
 "metadata": {
  "language_info": {
   "codemirror_mode": {
    "name": "ipython",
    "version": 3
   },
   "file_extension": ".py",
   "mimetype": "text/x-python",
   "name": "python",
   "nbconvert_exporter": "python",
   "pygments_lexer": "ipython3",
   "version": "3.8.3-final"
  },
  "orig_nbformat": 2,
  "kernelspec": {
   "name": "python3",
   "display_name": "Python 3",
   "language": "python"
  }
 },
 "nbformat": 4,
 "nbformat_minor": 2,
 "cells": [
  {
   "cell_type": "code",
   "execution_count": 2,
   "metadata": {},
   "outputs": [
    {
     "output_type": "stream",
     "name": "stdout",
     "text": [
      "Collecting vaderSentiment\n",
      "  Using cached vaderSentiment-3.3.2-py2.py3-none-any.whl (125 kB)\n",
      "Requirement already satisfied: requests in c:\\users\\coren\\anaconda3\\lib\\site-packages (from vaderSentiment) (2.22.0)\n",
      "Requirement already satisfied: urllib3!=1.25.0,!=1.25.1,<1.26,>=1.21.1 in c:\\users\\coren\\anaconda3\\lib\\site-packages (from requests->vaderSentiment) (1.25.7)\n",
      "Requirement already satisfied: idna<2.9,>=2.5 in c:\\users\\coren\\anaconda3\\lib\\site-packages (from requests->vaderSentiment) (2.8)\n",
      "Requirement already satisfied: chardet<3.1.0,>=3.0.2 in c:\\users\\coren\\anaconda3\\lib\\site-packages (from requests->vaderSentiment) (3.0.4)\n",
      "Requirement already satisfied: certifi>=2017.4.17 in c:\\users\\coren\\anaconda3\\lib\\site-packages (from requests->vaderSentiment) (2019.11.28)\n",
      "Installing collected packages: vaderSentiment\n",
      "Successfully installed vaderSentiment-3.3.2\n"
     ]
    }
   ],
   "source": [
    "!pip install vaderSentiment"
   ]
  },
  {
   "cell_type": "code",
   "execution_count": 1,
   "metadata": {},
   "outputs": [
    {
     "output_type": "stream",
     "name": "stdout",
     "text": [
      "Requirement already satisfied: sentence-transformers in c:\\users\\coren\\appdata\\roaming\\python\\python38\\site-packages (0.4.1.2)\nRequirement already satisfied: scikit-learn in c:\\users\\coren\\anaconda3\\lib\\site-packages (from sentence-transformers) (0.23.1)\nRequirement already satisfied: torch>=1.6.0 in c:\\users\\coren\\appdata\\roaming\\python\\python38\\site-packages (from sentence-transformers) (1.7.1)\nRequirement already satisfied: sentencepiece in c:\\users\\coren\\appdata\\roaming\\python\\python38\\site-packages (from sentence-transformers) (0.1.95)\nRequirement already satisfied: transformers<5.0.0,>=3.1.0 in c:\\users\\coren\\appdata\\roaming\\python\\python38\\site-packages (from sentence-transformers) (4.3.2)\nRequirement already satisfied: scipy in c:\\users\\coren\\anaconda3\\lib\\site-packages (from sentence-transformers) (1.5.0)\nRequirement already satisfied: nltk in c:\\users\\coren\\anaconda3\\lib\\site-packages (from sentence-transformers) (3.5)\nRequirement already satisfied: tqdm in c:\\users\\coren\\anaconda3\\lib\\site-packages (from sentence-transformers) (4.47.0)\nRequirement already satisfied: numpy in c:\\users\\coren\\anaconda3\\lib\\site-packages (from sentence-transformers) (1.20.1)\nRequirement already satisfied: typing-extensions in c:\\users\\coren\\anaconda3\\lib\\site-packages (from torch>=1.6.0->sentence-transformers) (3.7.4.2)\nRequirement already satisfied: packaging in c:\\users\\coren\\anaconda3\\lib\\site-packages (from transformers<5.0.0,>=3.1.0->sentence-transformers) (20.4)\nRequirement already satisfied: requests in c:\\users\\coren\\anaconda3\\lib\\site-packages (from transformers<5.0.0,>=3.1.0->sentence-transformers) (2.22.0)\nRequirement already satisfied: sacremoses in c:\\users\\coren\\appdata\\roaming\\python\\python38\\site-packages (from transformers<5.0.0,>=3.1.0->sentence-transformers) (0.0.43)\nRequirement already satisfied: filelock in c:\\users\\coren\\anaconda3\\lib\\site-packages (from transformers<5.0.0,>=3.1.0->sentence-transformers) (3.0.12)\nRequirement already satisfied: tokenizers<0.11,>=0.10.1 in c:\\users\\coren\\appdata\\roaming\\python\\python38\\site-packages (from transformers<5.0.0,>=3.1.0->sentence-transformers) (0.10.1)\nRequirement already satisfied: regex!=2019.12.17 in c:\\users\\coren\\anaconda3\\lib\\site-packages (from transformers<5.0.0,>=3.1.0->sentence-transformers) (2020.6.8)\nRequirement already satisfied: click in c:\\users\\coren\\anaconda3\\lib\\site-packages (from nltk->sentence-transformers) (7.1.2)\nRequirement already satisfied: joblib in c:\\users\\coren\\appdata\\roaming\\python\\python38\\site-packages (from nltk->sentence-transformers) (1.0.1)\nRequirement already satisfied: six in c:\\users\\coren\\anaconda3\\lib\\site-packages (from packaging->transformers<5.0.0,>=3.1.0->sentence-transformers) (1.15.0)\nRequirement already satisfied: pyparsing>=2.0.2 in c:\\users\\coren\\anaconda3\\lib\\site-packages (from packaging->transformers<5.0.0,>=3.1.0->sentence-transformers) (2.4.7)\nRequirement already satisfied: chardet<3.1.0,>=3.0.2 in c:\\users\\coren\\anaconda3\\lib\\site-packages (from requests->transformers<5.0.0,>=3.1.0->sentence-transformers) (3.0.4)\nRequirement already satisfied: certifi>=2017.4.17 in c:\\users\\coren\\anaconda3\\lib\\site-packages (from requests->transformers<5.0.0,>=3.1.0->sentence-transformers) (2019.11.28)\nRequirement already satisfied: idna<2.9,>=2.5 in c:\\users\\coren\\anaconda3\\lib\\site-packages (from requests->transformers<5.0.0,>=3.1.0->sentence-transformers) (2.8)\nRequirement already satisfied: urllib3!=1.25.0,!=1.25.1,<1.26,>=1.21.1 in c:\\users\\coren\\anaconda3\\lib\\site-packages (from requests->transformers<5.0.0,>=3.1.0->sentence-transformers) (1.25.7)\nRequirement already satisfied: threadpoolctl>=2.0.0 in c:\\users\\coren\\anaconda3\\lib\\site-packages (from scikit-learn->sentence-transformers) (2.1.0)\n"
     ]
    }
   ],
   "source": [
    "!pip install sentence-transformers"
   ]
  },
  {
   "cell_type": "code",
   "execution_count": 2,
   "metadata": {},
   "outputs": [
    {
     "output_type": "stream",
     "name": "stdout",
     "text": [
      "Requirement already satisfied: bertopic in c:\\users\\coren\\appdata\\roaming\\python\\python38\\site-packages (0.5.0)\n",
      "Requirement already satisfied: pandas>=1.1.5 in c:\\users\\coren\\appdata\\roaming\\python\\python38\\site-packages (from bertopic) (1.2.2)\n",
      "Requirement already satisfied: umap-learn>=0.5.0 in c:\\users\\coren\\appdata\\roaming\\python\\python38\\site-packages (from bertopic) (0.5.1)\n",
      "Requirement already satisfied: sentence-transformers>=0.4.1 in c:\\users\\coren\\appdata\\roaming\\python\\python38\\site-packages (from bertopic) (0.4.1.2)\n",
      "Requirement already satisfied: scikit-learn>=0.22.2.post1 in c:\\users\\coren\\anaconda3\\lib\\site-packages (from bertopic) (0.23.1)\n",
      "Requirement already satisfied: numpy>=1.19.2 in c:\\users\\coren\\anaconda3\\lib\\site-packages (from bertopic) (1.20.1)\n",
      "Requirement already satisfied: torch>=1.4.0 in c:\\users\\coren\\appdata\\roaming\\python\\python38\\site-packages (from bertopic) (1.7.1)\n",
      "Requirement already satisfied: tqdm>=4.41.1 in c:\\users\\coren\\anaconda3\\lib\\site-packages (from bertopic) (4.47.0)\n",
      "Requirement already satisfied: hdbscan>=0.8.27 in c:\\users\\coren\\appdata\\roaming\\python\\python38\\site-packages (from bertopic) (0.8.27)\n",
      "Requirement already satisfied: joblib>=1.0 in c:\\users\\coren\\appdata\\roaming\\python\\python38\\site-packages (from hdbscan>=0.8.27->bertopic) (1.0.1)\n",
      "Requirement already satisfied: six in c:\\users\\coren\\anaconda3\\lib\\site-packages (from hdbscan>=0.8.27->bertopic) (1.15.0)\n",
      "Requirement already satisfied: cython>=0.27 in c:\\users\\coren\\anaconda3\\lib\\site-packages (from hdbscan>=0.8.27->bertopic) (0.29.21)\n",
      "Requirement already satisfied: scipy>=1.0 in c:\\users\\coren\\anaconda3\\lib\\site-packages (from hdbscan>=0.8.27->bertopic) (1.5.0)\n",
      "Requirement already satisfied: python-dateutil>=2.7.3 in c:\\users\\coren\\anaconda3\\lib\\site-packages (from pandas>=1.1.5->bertopic) (2.8.1)\n",
      "Requirement already satisfied: pytz>=2017.3 in c:\\users\\coren\\anaconda3\\lib\\site-packages (from pandas>=1.1.5->bertopic) (2020.1)\n",
      "Requirement already satisfied: threadpoolctl>=2.0.0 in c:\\users\\coren\\anaconda3\\lib\\site-packages (from scikit-learn>=0.22.2.post1->bertopic) (2.1.0)\n",
      "Requirement already satisfied: nltk in c:\\users\\coren\\anaconda3\\lib\\site-packages (from sentence-transformers>=0.4.1->bertopic) (3.5)\n",
      "Requirement already satisfied: transformers<5.0.0,>=3.1.0 in c:\\users\\coren\\appdata\\roaming\\python\\python38\\site-packages (from sentence-transformers>=0.4.1->bertopic) (4.3.2)\n",
      "Requirement already satisfied: sentencepiece in c:\\users\\coren\\appdata\\roaming\\python\\python38\\site-packages (from sentence-transformers>=0.4.1->bertopic) (0.1.95)\n",
      "Requirement already satisfied: typing-extensions in c:\\users\\coren\\anaconda3\\lib\\site-packages (from torch>=1.4.0->bertopic) (3.7.4.2)\n",
      "Requirement already satisfied: filelock in c:\\users\\coren\\anaconda3\\lib\\site-packages (from transformers<5.0.0,>=3.1.0->sentence-transformers>=0.4.1->bertopic) (3.0.12)\n",
      "Requirement already satisfied: regex!=2019.12.17 in c:\\users\\coren\\anaconda3\\lib\\site-packages (from transformers<5.0.0,>=3.1.0->sentence-transformers>=0.4.1->bertopic) (2020.6.8)\n",
      "Requirement already satisfied: packaging in c:\\users\\coren\\anaconda3\\lib\\site-packages (from transformers<5.0.0,>=3.1.0->sentence-transformers>=0.4.1->bertopic) (20.4)\n",
      "Requirement already satisfied: sacremoses in c:\\users\\coren\\appdata\\roaming\\python\\python38\\site-packages (from transformers<5.0.0,>=3.1.0->sentence-transformers>=0.4.1->bertopic) (0.0.43)\n",
      "Requirement already satisfied: requests in c:\\users\\coren\\anaconda3\\lib\\site-packages (from transformers<5.0.0,>=3.1.0->sentence-transformers>=0.4.1->bertopic) (2.22.0)\n",
      "Requirement already satisfied: tokenizers<0.11,>=0.10.1 in c:\\users\\coren\\appdata\\roaming\\python\\python38\\site-packages (from transformers<5.0.0,>=3.1.0->sentence-transformers>=0.4.1->bertopic) (0.10.1)\n",
      "Requirement already satisfied: numba>=0.49 in c:\\users\\coren\\appdata\\roaming\\python\\python38\\site-packages (from umap-learn>=0.5.0->bertopic) (0.52.0)\n",
      "Requirement already satisfied: pynndescent>=0.5 in c:\\users\\coren\\appdata\\roaming\\python\\python38\\site-packages (from umap-learn>=0.5.0->bertopic) (0.5.2)\n",
      "Requirement already satisfied: setuptools in c:\\users\\coren\\appdata\\roaming\\python\\python38\\site-packages (from numba>=0.49->umap-learn>=0.5.0->bertopic) (50.3.2)\n",
      "Requirement already satisfied: llvmlite<0.36,>=0.35.0 in c:\\users\\coren\\appdata\\roaming\\python\\python38\\site-packages (from numba>=0.49->umap-learn>=0.5.0->bertopic) (0.35.0)\n",
      "Requirement already satisfied: click in c:\\users\\coren\\anaconda3\\lib\\site-packages (from nltk->sentence-transformers>=0.4.1->bertopic) (7.1.2)\n",
      "Requirement already satisfied: pyparsing>=2.0.2 in c:\\users\\coren\\anaconda3\\lib\\site-packages (from packaging->transformers<5.0.0,>=3.1.0->sentence-transformers>=0.4.1->bertopic) (2.4.7)\n",
      "Requirement already satisfied: urllib3!=1.25.0,!=1.25.1,<1.26,>=1.21.1 in c:\\users\\coren\\anaconda3\\lib\\site-packages (from requests->transformers<5.0.0,>=3.1.0->sentence-transformers>=0.4.1->bertopic) (1.25.7)\n",
      "Requirement already satisfied: certifi>=2017.4.17 in c:\\users\\coren\\anaconda3\\lib\\site-packages (from requests->transformers<5.0.0,>=3.1.0->sentence-transformers>=0.4.1->bertopic) (2019.11.28)\n",
      "Requirement already satisfied: chardet<3.1.0,>=3.0.2 in c:\\users\\coren\\anaconda3\\lib\\site-packages (from requests->transformers<5.0.0,>=3.1.0->sentence-transformers>=0.4.1->bertopic) (3.0.4)\n",
      "Requirement already satisfied: idna<2.9,>=2.5 in c:\\users\\coren\\anaconda3\\lib\\site-packages (from requests->transformers<5.0.0,>=3.1.0->sentence-transformers>=0.4.1->bertopic) (2.8)\n"
     ]
    }
   ],
   "source": [
    "!pip install bertopic"
   ]
  },
  {
   "cell_type": "code",
   "execution_count": 3,
   "metadata": {},
   "outputs": [],
   "source": [
    "import pandas as pd\n",
    "import numpy as np\n",
    "\n",
    "from preprocessing import *\n",
    "from model import *"
   ]
  },
  {
   "cell_type": "code",
   "execution_count": 4,
   "metadata": {},
   "outputs": [],
   "source": [
    "data = Preprocessor().preprocess(path_data=\"../data/\")"
   ]
  },
  {
   "cell_type": "code",
   "execution_count": 5,
   "metadata": {},
   "outputs": [
    {
     "output_type": "execute_result",
     "data": {
      "text/plain": [
       "(85982, 2)"
      ]
     },
     "metadata": {},
     "execution_count": 5
    }
   ],
   "source": [
    "data.shape"
   ]
  },
  {
   "cell_type": "code",
   "execution_count": 6,
   "metadata": {},
   "outputs": [
    {
     "output_type": "execute_result",
     "data": {
      "text/plain": [
       "                                             comment  \\\n",
       "0  Best seat on this aircraft. Overhead bins on l...   \n",
       "1  I flew from Frankfurt to Heathrow on my way ba...   \n",
       "2  Seat is too narrow, is poorly designed, and ha...   \n",
       "3  Got upgraded to this while having purchased th...   \n",
       "4  Good seat with plenty legroom. Only disadvanta...   \n",
       "\n",
       "                                     comment_cleaned  \n",
       "0  best seat on this aircraft. overhead bins on l...  \n",
       "1  i flew from frankfurt to heathrow on my way ba...  \n",
       "2  seat is too narrow, is poorly designed, and ha...  \n",
       "3  got upgraded to this while having purchased th...  \n",
       "4  good seat with plenty legroom. only disadvanta...  "
      ],
      "text/html": "<div>\n<style scoped>\n    .dataframe tbody tr th:only-of-type {\n        vertical-align: middle;\n    }\n\n    .dataframe tbody tr th {\n        vertical-align: top;\n    }\n\n    .dataframe thead th {\n        text-align: right;\n    }\n</style>\n<table border=\"1\" class=\"dataframe\">\n  <thead>\n    <tr style=\"text-align: right;\">\n      <th></th>\n      <th>comment</th>\n      <th>comment_cleaned</th>\n    </tr>\n  </thead>\n  <tbody>\n    <tr>\n      <th>0</th>\n      <td>Best seat on this aircraft. Overhead bins on l...</td>\n      <td>best seat on this aircraft. overhead bins on l...</td>\n    </tr>\n    <tr>\n      <th>1</th>\n      <td>I flew from Frankfurt to Heathrow on my way ba...</td>\n      <td>i flew from frankfurt to heathrow on my way ba...</td>\n    </tr>\n    <tr>\n      <th>2</th>\n      <td>Seat is too narrow, is poorly designed, and ha...</td>\n      <td>seat is too narrow, is poorly designed, and ha...</td>\n    </tr>\n    <tr>\n      <th>3</th>\n      <td>Got upgraded to this while having purchased th...</td>\n      <td>got upgraded to this while having purchased th...</td>\n    </tr>\n    <tr>\n      <th>4</th>\n      <td>Good seat with plenty legroom. Only disadvanta...</td>\n      <td>good seat with plenty legroom. only disadvanta...</td>\n    </tr>\n  </tbody>\n</table>\n</div>"
     },
     "metadata": {},
     "execution_count": 6
    }
   ],
   "source": [
    "data.head()"
   ]
  },
  {
   "cell_type": "code",
   "execution_count": 18,
   "metadata": {},
   "outputs": [],
   "source": [
    "data_extract = data.head(10000)"
   ]
  },
  {
   "cell_type": "code",
   "execution_count": 19,
   "metadata": {},
   "outputs": [
    {
     "output_type": "execute_result",
     "data": {
      "text/plain": [
       "(10000, 2)"
      ]
     },
     "metadata": {},
     "execution_count": 19
    }
   ],
   "source": [
    "data_extract.shape"
   ]
  },
  {
   "cell_type": "code",
   "execution_count": 9,
   "metadata": {},
   "outputs": [],
   "source": [
    "from bertopic import BERTopic"
   ]
  },
  {
   "cell_type": "code",
   "execution_count": 10,
   "metadata": {},
   "outputs": [],
   "source": [
    "topic_model = BERTopic()"
   ]
  },
  {
   "cell_type": "code",
   "execution_count": 11,
   "metadata": {},
   "outputs": [],
   "source": [
    "topics, _ = topic_model.fit_transform(data_extract.comment.values)"
   ]
  },
  {
   "cell_type": "code",
   "execution_count": 12,
   "metadata": {},
   "outputs": [
    {
     "output_type": "execute_result",
     "data": {
      "text/plain": [
       "   Topic  Count\n",
       "0     -1    543\n",
       "1     12    130\n",
       "2     15     78\n",
       "3      6     37\n",
       "4      9     25"
      ],
      "text/html": "<div>\n<style scoped>\n    .dataframe tbody tr th:only-of-type {\n        vertical-align: middle;\n    }\n\n    .dataframe tbody tr th {\n        vertical-align: top;\n    }\n\n    .dataframe thead th {\n        text-align: right;\n    }\n</style>\n<table border=\"1\" class=\"dataframe\">\n  <thead>\n    <tr style=\"text-align: right;\">\n      <th></th>\n      <th>Topic</th>\n      <th>Count</th>\n    </tr>\n  </thead>\n  <tbody>\n    <tr>\n      <th>0</th>\n      <td>-1</td>\n      <td>543</td>\n    </tr>\n    <tr>\n      <th>1</th>\n      <td>12</td>\n      <td>130</td>\n    </tr>\n    <tr>\n      <th>2</th>\n      <td>15</td>\n      <td>78</td>\n    </tr>\n    <tr>\n      <th>3</th>\n      <td>6</td>\n      <td>37</td>\n    </tr>\n    <tr>\n      <th>4</th>\n      <td>9</td>\n      <td>25</td>\n    </tr>\n  </tbody>\n</table>\n</div>"
     },
     "metadata": {},
     "execution_count": 12
    }
   ],
   "source": [
    "topic_model.get_topic_freq().head()"
   ]
  },
  {
   "cell_type": "code",
   "execution_count": 17,
   "metadata": {},
   "outputs": [
    {
     "output_type": "execute_result",
     "data": {
      "text/plain": [
       "{-1: [('but', 0.006889300370625249),\n",
       "  ('no', 0.006323570488104359),\n",
       "  ('room', 0.006024573147613679),\n",
       "  ('flight', 0.006015889985696692),\n",
       "  ('row', 0.0059028305742765755),\n",
       "  ('all', 0.005820007441035011),\n",
       "  ('legroom', 0.005644015006051961),\n",
       "  ('window', 0.005631225815940407),\n",
       "  ('not', 0.005503772103487046),\n",
       "  ('class', 0.005364826699111957)],\n",
       " 0: [('16', 0.0544685791772677),\n",
       "  ('usb', 0.02928558842228347),\n",
       "  ('extra', 0.027362208969958064),\n",
       "  ('plug', 0.023784796735479317),\n",
       "  ('outlet', 0.023204584737172008),\n",
       "  ('armrests', 0.021393132618328082),\n",
       "  ('only', 0.01793260043103205),\n",
       "  ('flexible', 0.017014175563995412),\n",
       "  ('67', 0.017014175563995412),\n",
       "  ('bulkheadwall', 0.017014175563995412)],\n",
       " 1: [('20', 0.027818094694759356),\n",
       "  ('19a', 0.017152981270612287),\n",
       "  ('20b', 0.017152981270612287),\n",
       "  ('21', 0.015106286839825046),\n",
       "  ('19', 0.015106286839825046),\n",
       "  ('bathrooms', 0.012823245831261616),\n",
       "  ('20d', 0.0122334805087051),\n",
       "  ('20e', 0.0122334805087051),\n",
       "  ('20f', 0.0122334805087051),\n",
       "  ('19b', 0.0122334805087051)],\n",
       " 2: [('emirates', 0.016599745584017795),\n",
       "  ('seating', 0.016176332557304267),\n",
       "  ('plane', 0.014303415766997),\n",
       "  ('aircraft', 0.01406712547960795),\n",
       "  ('flight', 0.012029638721332071),\n",
       "  ('atlanta', 0.011747721988570077),\n",
       "  ('windows', 0.011483777968206476),\n",
       "  ('boeing', 0.010972895392174614),\n",
       "  ('tiny', 0.010061232498156585),\n",
       "  ('narrow', 0.009172650088721526)],\n",
       " 3: [('aa', 0.026836291371331124),\n",
       "  ('planes', 0.021126419508612455),\n",
       "  ('lavs', 0.01694557793139031),\n",
       "  ('elite', 0.01694557793139031),\n",
       "  ('737s', 0.01238623238872927),\n",
       "  ('763s', 0.01238623238872927),\n",
       "  ('777', 0.011798121921473144),\n",
       "  ('18', 0.011297051954260205),\n",
       "  ('plane', 0.010967731119842849),\n",
       "  ('chicken', 0.010908306630605718)],\n",
       " 4: [('11', 0.013629303797467686),\n",
       "  ('advantage', 0.012032006900755857),\n",
       "  ('storage', 0.01151363948313979),\n",
       "  ('window', 0.011508190737266014),\n",
       "  ('virgin', 0.011128626418226106),\n",
       "  ('business', 0.008969239932555564),\n",
       "  ('tall', 0.00828657377484672),\n",
       "  ('extra', 0.008276223700789785),\n",
       "  ('fully', 0.007978456309230846),\n",
       "  ('13', 0.007921775012916391)],\n",
       " 5: [('private', 0.019534301914151588),\n",
       "  ('good', 0.015732481392245583),\n",
       "  ('sleeping', 0.015494059208282743),\n",
       "  ('cabin', 0.013929907021451393),\n",
       "  ('pleasant', 0.012606237381746434),\n",
       "  ('narrow', 0.011210107601738172),\n",
       "  ('privacy', 0.010987025450465806),\n",
       "  ('efficient', 0.0103642158613988),\n",
       "  ('bed', 0.01033871411576819),\n",
       "  ('comfortable', 0.009515735400851365)],\n",
       " 6: [('aisle', 0.029142080161050778),\n",
       "  ('space', 0.01410016600842695),\n",
       "  ('storage', 0.013659363204997658),\n",
       "  ('gap', 0.012184156003289634),\n",
       "  ('window', 0.010693179645001912),\n",
       "  ('limited', 0.010559283346372988),\n",
       "  ('bulkhead', 0.009462179547713723),\n",
       "  ('backpack', 0.009255548381002593),\n",
       "  ('box', 0.009082196601481853),\n",
       "  ('legroom', 0.008867426514788432)],\n",
       " 7: [('upgrade', 0.017369985582863852),\n",
       "  ('exit', 0.015473789935458242),\n",
       "  ('premium', 0.015259937460818983),\n",
       "  ('jack', 0.012260831053728155),\n",
       "  ('room', 0.011190246996891771),\n",
       "  ('try', 0.011042787412684505),\n",
       "  ('headphone', 0.011018160910274218),\n",
       "  ('delta', 0.009537460913011863),\n",
       "  ('arm', 0.009385893888079255),\n",
       "  ('emergency', 0.008578607345504176)],\n",
       " 8: [('no', 0.017225070616438107),\n",
       "  ('storage', 0.01722332369189115),\n",
       "  ('room', 0.015003993343391012),\n",
       "  ('dont', 0.014673840468373526),\n",
       "  ('world', 0.013948398306890084),\n",
       "  ('aisle', 0.012831847523606782),\n",
       "  ('all', 0.010191466018598716),\n",
       "  ('comfy', 0.00965687473623174),\n",
       "  ('plenty', 0.009620513205556819),\n",
       "  ('bathrooms', 0.009482108998953276)],\n",
       " 9: [('carry', 0.023369359218944938),\n",
       "  ('box', 0.0206976336900138),\n",
       "  ('space', 0.01864873413502432),\n",
       "  ('severely', 0.014855948657925326),\n",
       "  ('width', 0.013257899373994214),\n",
       "  ('backpack', 0.011299654918062585),\n",
       "  ('41j', 0.011147279100308863),\n",
       "  ('obstructed', 0.011147279100308863),\n",
       "  ('underneath', 0.011126008672849389),\n",
       "  ('couldnt', 0.01026918249046768)],\n",
       " 10: [('window', 0.09651416438176452),\n",
       "  ('narrower', 0.04669467663435362),\n",
       "  ('exit', 0.0441035658287006),\n",
       "  ('intrudes', 0.0437199701201401),\n",
       "  ('behindbeside', 0.0437199701201401),\n",
       "  ('11e', 0.039332962648241716),\n",
       "  ('11d', 0.039332962648241716),\n",
       "  ('door', 0.03742419696709759),\n",
       "  ('vents', 0.03237972031489925),\n",
       "  ('broken', 0.029146646746760076)],\n",
       " 11: [('only', 0.021854395551026192),\n",
       "  ('curtain', 0.018586201095940696),\n",
       "  ('3a', 0.017550585968281587),\n",
       "  ('business', 0.01606155487064839),\n",
       "  ('restroom', 0.015471217859978615),\n",
       "  ('food', 0.014839266899615006),\n",
       "  ('wifi', 0.014643903771412963),\n",
       "  ('class', 0.013606219783986451),\n",
       "  ('noisy', 0.013420319058072542),\n",
       "  ('overbooked', 0.0118486368421649)],\n",
       " 12: [('great', 0.016480651121364077),\n",
       "  ('good', 0.013662682186111197),\n",
       "  ('comfortable', 0.011990647624897075),\n",
       "  ('food', 0.01064459078868209),\n",
       "  ('plane', 0.008840559061601362),\n",
       "  ('nice', 0.008661991360306197),\n",
       "  ('business', 0.00824986961350262),\n",
       "  ('experience', 0.00819102881941485),\n",
       "  ('excellent', 0.007401814324795915),\n",
       "  ('windows', 0.00688273094412375)],\n",
       " 13: [('crew', 0.02247402853513784),\n",
       "  ('galley', 0.020568443568869315),\n",
       "  ('attendants', 0.02001174055920006),\n",
       "  ('cabin', 0.019859734810561244),\n",
       "  ('53a', 0.016887043576494266),\n",
       "  ('kitchen', 0.015402085367872199),\n",
       "  ('meal', 0.014874626675213621),\n",
       "  ('5a', 0.014872080842308379),\n",
       "  ('class', 0.013176787598113124),\n",
       "  ('annoying', 0.012624435818373839)],\n",
       " 14: [('toilet', 0.04224326396231161),\n",
       "  ('passengers', 0.02044947762194074),\n",
       "  ('restroom', 0.011868052647852016),\n",
       "  ('toilets', 0.011761680160549121),\n",
       "  ('night', 0.011027655320699747),\n",
       "  ('smell', 0.01045720532871323),\n",
       "  ('all', 0.010236165430960991),\n",
       "  ('close', 0.009725366975002333),\n",
       "  ('extremely', 0.008747990369805335),\n",
       "  ('often', 0.008729306504988429)],\n",
       " 15: [('worst', 0.012580910484559752),\n",
       "  ('flight', 0.009602642303552079),\n",
       "  ('uncomfortable', 0.008613804212097067),\n",
       "  ('business', 0.00848178124056885),\n",
       "  ('never', 0.007723222186859819),\n",
       "  ('economy', 0.007721772450512921),\n",
       "  ('fly', 0.007470459474906306),\n",
       "  ('entertainment', 0.007253729862818582),\n",
       "  ('plane', 0.0068856632780122835),\n",
       "  ('terrible', 0.006768962543061859)]}"
      ]
     },
     "metadata": {},
     "execution_count": 17
    }
   ],
   "source": [
    "topic_model.get_topics()"
   ]
  },
  {
   "cell_type": "code",
   "execution_count": null,
   "metadata": {},
   "outputs": [],
   "source": []
  }
 ]
}