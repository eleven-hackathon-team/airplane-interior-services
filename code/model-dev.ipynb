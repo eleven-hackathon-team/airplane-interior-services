{
 "metadata": {
  "language_info": {
   "codemirror_mode": {
    "name": "ipython",
    "version": 3
   },
   "file_extension": ".py",
   "mimetype": "text/x-python",
   "name": "python",
   "nbconvert_exporter": "python",
   "pygments_lexer": "ipython3",
   "version": "3.8.3-final"
  },
  "orig_nbformat": 2,
  "kernelspec": {
   "name": "python3",
   "display_name": "Python 3",
   "language": "python"
  }
 },
 "nbformat": 4,
 "nbformat_minor": 2,
 "cells": [
  {
   "cell_type": "code",
   "execution_count": 129,
   "metadata": {},
   "outputs": [
    {
     "output_type": "stream",
     "name": "stdout",
     "text": [
      "The autoreload extension is already loaded. To reload it, use:\n  %reload_ext autoreload\n"
     ]
    }
   ],
   "source": [
    "import pandas as pd\n",
    "import numpy as np\n",
    "\n",
    "from preprocessing import *\n",
    "from model import *\n",
    "\n",
    "%load_ext autoreload\n",
    "%autoreload 2"
   ]
  },
  {
   "cell_type": "code",
   "execution_count": 67,
   "metadata": {},
   "outputs": [
    {
     "output_type": "stream",
     "name": "stdout",
     "text": [
      "> Fetching existing preprocessed data\n"
     ]
    }
   ],
   "source": [
    "data = Preprocessor(existing_data=\"../data/preprocessed/reviews_preprocessed.csv\").preprocess()"
   ]
  },
  {
   "cell_type": "code",
   "execution_count": 68,
   "metadata": {},
   "outputs": [
    {
     "output_type": "execute_result",
     "data": {
      "text/plain": [
       "(51002, 4)"
      ]
     },
     "metadata": {},
     "execution_count": 68
    }
   ],
   "source": [
    "data.shape"
   ]
  },
  {
   "cell_type": "code",
   "execution_count": 69,
   "metadata": {},
   "outputs": [
    {
     "output_type": "execute_result",
     "data": {
      "text/plain": [
       "                                             comment  \\\n",
       "0  Best seat on this aircraft. Overhead bins on l...   \n",
       "1  I flew from Frankfurt to Heathrow on my way ba...   \n",
       "2  Seat is too narrow, is poorly designed, and ha...   \n",
       "3  Got upgraded to this while having purchased th...   \n",
       "4  Good seat with plenty legroom. Only disadvanta...   \n",
       "\n",
       "                                     comment_cleaned  \\\n",
       "0  best seat on this aircraft overhead bins on le...   \n",
       "1  i flew from frankfurt to heathrow on my way ba...   \n",
       "2  seat is too narrow is poorly designed and has ...   \n",
       "3  got upgraded to this while having purchased th...   \n",
       "4  good seat with plenty legroom only disadvantag...   \n",
       "\n",
       "                                comment_no_stopwords  \\\n",
       "0  best seat aircraft overhead bins left side sma...   \n",
       "1  flew frankfurt heathrow way back houston unhap...   \n",
       "2  seat narrow poorly designed insufficient paddi...   \n",
       "3  got upgraded purchased lowest fare class x sea...   \n",
       "4  good seat plenty legroom disadvantage cant rec...   \n",
       "\n",
       "                                  comment_lemmatized  \n",
       "0  best seat aircraft overhead bins left side sma...  \n",
       "1  flew frankfurt heathrow way back houston unhap...  \n",
       "2  seat narrow poorly designed insufficient paddi...  \n",
       "3  got upgraded purchased lowest fare class seat ...  \n",
       "4  good seat plenty legroom disadvantage recline ...  "
      ],
      "text/html": "<div>\n<style scoped>\n    .dataframe tbody tr th:only-of-type {\n        vertical-align: middle;\n    }\n\n    .dataframe tbody tr th {\n        vertical-align: top;\n    }\n\n    .dataframe thead th {\n        text-align: right;\n    }\n</style>\n<table border=\"1\" class=\"dataframe\">\n  <thead>\n    <tr style=\"text-align: right;\">\n      <th></th>\n      <th>comment</th>\n      <th>comment_cleaned</th>\n      <th>comment_no_stopwords</th>\n      <th>comment_lemmatized</th>\n    </tr>\n  </thead>\n  <tbody>\n    <tr>\n      <th>0</th>\n      <td>Best seat on this aircraft. Overhead bins on l...</td>\n      <td>best seat on this aircraft overhead bins on le...</td>\n      <td>best seat aircraft overhead bins left side sma...</td>\n      <td>best seat aircraft overhead bins left side sma...</td>\n    </tr>\n    <tr>\n      <th>1</th>\n      <td>I flew from Frankfurt to Heathrow on my way ba...</td>\n      <td>i flew from frankfurt to heathrow on my way ba...</td>\n      <td>flew frankfurt heathrow way back houston unhap...</td>\n      <td>flew frankfurt heathrow way back houston unhap...</td>\n    </tr>\n    <tr>\n      <th>2</th>\n      <td>Seat is too narrow, is poorly designed, and ha...</td>\n      <td>seat is too narrow is poorly designed and has ...</td>\n      <td>seat narrow poorly designed insufficient paddi...</td>\n      <td>seat narrow poorly designed insufficient paddi...</td>\n    </tr>\n    <tr>\n      <th>3</th>\n      <td>Got upgraded to this while having purchased th...</td>\n      <td>got upgraded to this while having purchased th...</td>\n      <td>got upgraded purchased lowest fare class x sea...</td>\n      <td>got upgraded purchased lowest fare class seat ...</td>\n    </tr>\n    <tr>\n      <th>4</th>\n      <td>Good seat with plenty legroom. Only disadvanta...</td>\n      <td>good seat with plenty legroom only disadvantag...</td>\n      <td>good seat plenty legroom disadvantage cant rec...</td>\n      <td>good seat plenty legroom disadvantage recline ...</td>\n    </tr>\n  </tbody>\n</table>\n</div>"
     },
     "metadata": {},
     "execution_count": 69
    }
   ],
   "source": [
    "data.head()"
   ]
  },
  {
   "cell_type": "code",
   "execution_count": 130,
   "metadata": {},
   "outputs": [],
   "source": [
    "tm_model = BERTopicModel()"
   ]
  },
  {
   "cell_type": "code",
   "execution_count": 131,
   "metadata": {},
   "outputs": [],
   "source": [
    "clusters = tm_model.cluster_reviews(data.comment_lemmatized.values, n_topics_max=50)"
   ]
  },
  {
   "cell_type": "code",
   "execution_count": 133,
   "metadata": {},
   "outputs": [],
   "source": [
    "topics = tm_model.get_topics_description()"
   ]
  },
  {
   "cell_type": "code",
   "execution_count": null,
   "metadata": {},
   "outputs": [],
   "source": [
    "data[\"topic_idx\"] = pd.Series(clusters)\n",
    "data.to_csv(\"../data/reviews_with_topic.csv\", index=False, sep=\"|\")\n",
    "topics.to_csv(\"../data/topics.csv\", index=False, sep=\";\")"
   ]
  },
  {
   "cell_type": "code",
   "execution_count": null,
   "metadata": {},
   "outputs": [],
   "source": []
  }
 ]
}