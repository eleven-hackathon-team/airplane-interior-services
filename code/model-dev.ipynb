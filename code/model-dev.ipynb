{
 "metadata": {
  "language_info": {
   "codemirror_mode": {
    "name": "ipython",
    "version": 3
   },
   "file_extension": ".py",
   "mimetype": "text/x-python",
   "name": "python",
   "nbconvert_exporter": "python",
   "pygments_lexer": "ipython3",
   "version": "3.8.3-final"
  },
  "orig_nbformat": 2,
  "kernelspec": {
   "name": "python3",
   "display_name": "Python 3",
   "language": "python"
  }
 },
 "nbformat": 4,
 "nbformat_minor": 2,
 "cells": [
  {
   "cell_type": "code",
   "execution_count": 1,
   "metadata": {},
   "outputs": [
    {
     "output_type": "stream",
     "name": "stdout",
     "text": [
      "Requirement already satisfied: sentence-transformers in c:\\users\\coren\\appdata\\roaming\\python\\python38\\site-packages (0.4.1.2)\n",
      "Requirement already satisfied: scipy in c:\\users\\coren\\anaconda3\\lib\\site-packages (from sentence-transformers) (1.5.0)\n",
      "Requirement already satisfied: scikit-learn in c:\\users\\coren\\anaconda3\\lib\\site-packages (from sentence-transformers) (0.23.1)\n",
      "Requirement already satisfied: numpy in c:\\users\\coren\\anaconda3\\lib\\site-packages (from sentence-transformers) (1.20.1)\n",
      "Requirement already satisfied: transformers<5.0.0,>=3.1.0 in c:\\users\\coren\\appdata\\roaming\\python\\python38\\site-packages (from sentence-transformers) (4.3.2)\n",
      "Requirement already satisfied: sentencepiece in c:\\users\\coren\\appdata\\roaming\\python\\python38\\site-packages (from sentence-transformers) (0.1.95)\n",
      "Requirement already satisfied: torch>=1.6.0 in c:\\users\\coren\\appdata\\roaming\\python\\python38\\site-packages (from sentence-transformers) (1.7.1)\n",
      "Requirement already satisfied: nltk in c:\\users\\coren\\anaconda3\\lib\\site-packages (from sentence-transformers) (3.5)\n",
      "Requirement already satisfied: tqdm in c:\\users\\coren\\anaconda3\\lib\\site-packages (from sentence-transformers) (4.47.0)\n",
      "Requirement already satisfied: typing-extensions in c:\\users\\coren\\anaconda3\\lib\\site-packages (from torch>=1.6.0->sentence-transformers) (3.7.4.2)\n",
      "Requirement already satisfied: requests in c:\\users\\coren\\anaconda3\\lib\\site-packages (from transformers<5.0.0,>=3.1.0->sentence-transformers) (2.22.0)\n",
      "Requirement already satisfied: tokenizers<0.11,>=0.10.1 in c:\\users\\coren\\appdata\\roaming\\python\\python38\\site-packages (from transformers<5.0.0,>=3.1.0->sentence-transformers) (0.10.1)\n",
      "Requirement already satisfied: regex!=2019.12.17 in c:\\users\\coren\\anaconda3\\lib\\site-packages (from transformers<5.0.0,>=3.1.0->sentence-transformers) (2020.6.8)\n",
      "Requirement already satisfied: sacremoses in c:\\users\\coren\\appdata\\roaming\\python\\python38\\site-packages (from transformers<5.0.0,>=3.1.0->sentence-transformers) (0.0.43)\n",
      "Requirement already satisfied: filelock in c:\\users\\coren\\anaconda3\\lib\\site-packages (from transformers<5.0.0,>=3.1.0->sentence-transformers) (3.0.12)\n",
      "Requirement already satisfied: packaging in c:\\users\\coren\\anaconda3\\lib\\site-packages (from transformers<5.0.0,>=3.1.0->sentence-transformers) (20.4)\n",
      "Requirement already satisfied: click in c:\\users\\coren\\anaconda3\\lib\\site-packages (from nltk->sentence-transformers) (7.1.2)\n",
      "Requirement already satisfied: joblib in c:\\users\\coren\\appdata\\roaming\\python\\python38\\site-packages (from nltk->sentence-transformers) (1.0.1)\n",
      "Requirement already satisfied: six in c:\\users\\coren\\anaconda3\\lib\\site-packages (from packaging->transformers<5.0.0,>=3.1.0->sentence-transformers) (1.15.0)\n",
      "Requirement already satisfied: pyparsing>=2.0.2 in c:\\users\\coren\\anaconda3\\lib\\site-packages (from packaging->transformers<5.0.0,>=3.1.0->sentence-transformers) (2.4.7)\n",
      "Requirement already satisfied: idna<2.9,>=2.5 in c:\\users\\coren\\anaconda3\\lib\\site-packages (from requests->transformers<5.0.0,>=3.1.0->sentence-transformers) (2.8)\n",
      "Requirement already satisfied: urllib3!=1.25.0,!=1.25.1,<1.26,>=1.21.1 in c:\\users\\coren\\anaconda3\\lib\\site-packages (from requests->transformers<5.0.0,>=3.1.0->sentence-transformers) (1.25.7)\n",
      "Requirement already satisfied: chardet<3.1.0,>=3.0.2 in c:\\users\\coren\\anaconda3\\lib\\site-packages (from requests->transformers<5.0.0,>=3.1.0->sentence-transformers) (3.0.4)\n",
      "Requirement already satisfied: certifi>=2017.4.17 in c:\\users\\coren\\anaconda3\\lib\\site-packages (from requests->transformers<5.0.0,>=3.1.0->sentence-transformers) (2019.11.28)\n",
      "Requirement already satisfied: threadpoolctl>=2.0.0 in c:\\users\\coren\\anaconda3\\lib\\site-packages (from scikit-learn->sentence-transformers) (2.1.0)\n",
      "Requirement already satisfied: bertopic in c:\\users\\coren\\appdata\\roaming\\python\\python38\\site-packages (0.5.0)\n",
      "Requirement already satisfied: torch>=1.4.0 in c:\\users\\coren\\appdata\\roaming\\python\\python38\\site-packages (from bertopic) (1.7.1)\n",
      "Requirement already satisfied: hdbscan>=0.8.27 in c:\\users\\coren\\appdata\\roaming\\python\\python38\\site-packages (from bertopic) (0.8.27)\n",
      "Requirement already satisfied: tqdm>=4.41.1 in c:\\users\\coren\\anaconda3\\lib\\site-packages (from bertopic) (4.47.0)\n",
      "Requirement already satisfied: pandas>=1.1.5 in c:\\users\\coren\\appdata\\roaming\\python\\python38\\site-packages (from bertopic) (1.2.2)\n",
      "Requirement already satisfied: sentence-transformers>=0.4.1 in c:\\users\\coren\\appdata\\roaming\\python\\python38\\site-packages (from bertopic) (0.4.1.2)\n",
      "Requirement already satisfied: scikit-learn>=0.22.2.post1 in c:\\users\\coren\\anaconda3\\lib\\site-packages (from bertopic) (0.23.1)\n",
      "Requirement already satisfied: numpy>=1.19.2 in c:\\users\\coren\\anaconda3\\lib\\site-packages (from bertopic) (1.20.1)\n",
      "Requirement already satisfied: umap-learn>=0.5.0 in c:\\users\\coren\\appdata\\roaming\\python\\python38\\site-packages (from bertopic) (0.5.1)\n",
      "Requirement already satisfied: joblib>=1.0 in c:\\users\\coren\\appdata\\roaming\\python\\python38\\site-packages (from hdbscan>=0.8.27->bertopic) (1.0.1)\n",
      "Requirement already satisfied: scipy>=1.0 in c:\\users\\coren\\anaconda3\\lib\\site-packages (from hdbscan>=0.8.27->bertopic) (1.5.0)\n",
      "Requirement already satisfied: six in c:\\users\\coren\\anaconda3\\lib\\site-packages (from hdbscan>=0.8.27->bertopic) (1.15.0)\n",
      "Requirement already satisfied: cython>=0.27 in c:\\users\\coren\\anaconda3\\lib\\site-packages (from hdbscan>=0.8.27->bertopic) (0.29.21)\n",
      "Requirement already satisfied: python-dateutil>=2.7.3 in c:\\users\\coren\\anaconda3\\lib\\site-packages (from pandas>=1.1.5->bertopic) (2.8.1)\n",
      "Requirement already satisfied: pytz>=2017.3 in c:\\users\\coren\\anaconda3\\lib\\site-packages (from pandas>=1.1.5->bertopic) (2020.1)\n",
      "Requirement already satisfied: threadpoolctl>=2.0.0 in c:\\users\\coren\\anaconda3\\lib\\site-packages (from scikit-learn>=0.22.2.post1->bertopic) (2.1.0)\n",
      "Requirement already satisfied: transformers<5.0.0,>=3.1.0 in c:\\users\\coren\\appdata\\roaming\\python\\python38\\site-packages (from sentence-transformers>=0.4.1->bertopic) (4.3.2)\n",
      "Requirement already satisfied: sentencepiece in c:\\users\\coren\\appdata\\roaming\\python\\python38\\site-packages (from sentence-transformers>=0.4.1->bertopic) (0.1.95)\n",
      "Requirement already satisfied: nltk in c:\\users\\coren\\anaconda3\\lib\\site-packages (from sentence-transformers>=0.4.1->bertopic) (3.5)\n",
      "Requirement already satisfied: typing-extensions in c:\\users\\coren\\anaconda3\\lib\\site-packages (from torch>=1.4.0->bertopic) (3.7.4.2)\n",
      "Requirement already satisfied: regex!=2019.12.17 in c:\\users\\coren\\anaconda3\\lib\\site-packages (from transformers<5.0.0,>=3.1.0->sentence-transformers>=0.4.1->bertopic) (2020.6.8)\n",
      "Requirement already satisfied: packaging in c:\\users\\coren\\anaconda3\\lib\\site-packages (from transformers<5.0.0,>=3.1.0->sentence-transformers>=0.4.1->bertopic) (20.4)\n",
      "Requirement already satisfied: sacremoses in c:\\users\\coren\\appdata\\roaming\\python\\python38\\site-packages (from transformers<5.0.0,>=3.1.0->sentence-transformers>=0.4.1->bertopic) (0.0.43)\n",
      "Requirement already satisfied: filelock in c:\\users\\coren\\anaconda3\\lib\\site-packages (from transformers<5.0.0,>=3.1.0->sentence-transformers>=0.4.1->bertopic) (3.0.12)\n",
      "Requirement already satisfied: requests in c:\\users\\coren\\anaconda3\\lib\\site-packages (from transformers<5.0.0,>=3.1.0->sentence-transformers>=0.4.1->bertopic) (2.22.0)\n",
      "Requirement already satisfied: tokenizers<0.11,>=0.10.1 in c:\\users\\coren\\appdata\\roaming\\python\\python38\\site-packages (from transformers<5.0.0,>=3.1.0->sentence-transformers>=0.4.1->bertopic) (0.10.1)\n",
      "Requirement already satisfied: numba>=0.49 in c:\\users\\coren\\appdata\\roaming\\python\\python38\\site-packages (from umap-learn>=0.5.0->bertopic) (0.52.0)\n",
      "Requirement already satisfied: pynndescent>=0.5 in c:\\users\\coren\\appdata\\roaming\\python\\python38\\site-packages (from umap-learn>=0.5.0->bertopic) (0.5.2)\n",
      "Requirement already satisfied: setuptools in c:\\users\\coren\\appdata\\roaming\\python\\python38\\site-packages (from numba>=0.49->umap-learn>=0.5.0->bertopic) (50.3.2)\n",
      "Requirement already satisfied: llvmlite<0.36,>=0.35.0 in c:\\users\\coren\\appdata\\roaming\\python\\python38\\site-packages (from numba>=0.49->umap-learn>=0.5.0->bertopic) (0.35.0)\n",
      "Requirement already satisfied: click in c:\\users\\coren\\anaconda3\\lib\\site-packages (from nltk->sentence-transformers>=0.4.1->bertopic) (7.1.2)\n",
      "Requirement already satisfied: pyparsing>=2.0.2 in c:\\users\\coren\\anaconda3\\lib\\site-packages (from packaging->transformers<5.0.0,>=3.1.0->sentence-transformers>=0.4.1->bertopic) (2.4.7)\n",
      "Requirement already satisfied: urllib3!=1.25.0,!=1.25.1,<1.26,>=1.21.1 in c:\\users\\coren\\anaconda3\\lib\\site-packages (from requests->transformers<5.0.0,>=3.1.0->sentence-transformers>=0.4.1->bertopic) (1.25.7)\n",
      "Requirement already satisfied: idna<2.9,>=2.5 in c:\\users\\coren\\anaconda3\\lib\\site-packages (from requests->transformers<5.0.0,>=3.1.0->sentence-transformers>=0.4.1->bertopic) (2.8)\n",
      "Requirement already satisfied: certifi>=2017.4.17 in c:\\users\\coren\\anaconda3\\lib\\site-packages (from requests->transformers<5.0.0,>=3.1.0->sentence-transformers>=0.4.1->bertopic) (2019.11.28)\n",
      "Requirement already satisfied: chardet<3.1.0,>=3.0.2 in c:\\users\\coren\\anaconda3\\lib\\site-packages (from requests->transformers<5.0.0,>=3.1.0->sentence-transformers>=0.4.1->bertopic) (3.0.4)\n"
     ]
    }
   ],
   "source": [
    "!pip install sentence-transformers \n",
    "!pip install bertopic "
   ]
  },
  {
   "cell_type": "code",
   "execution_count": 2,
   "metadata": {},
   "outputs": [],
   "source": [
    "import pandas as pd\n",
    "import numpy as np\n",
    "\n",
    "from preprocessing import *\n",
    "from model import VaderModel\n",
    "\n",
    "%load_ext autoreload\n",
    "%autoreload 2"
   ]
  },
  {
   "cell_type": "code",
   "execution_count": 136,
   "metadata": {},
   "outputs": [
    {
     "output_type": "stream",
     "name": "stdout",
     "text": [
      "> Fetching existing preprocessed data\n"
     ]
    }
   ],
   "source": [
    "data = Preprocessor(existing_data=\"../data/preprocessed/reviews_preprocessed.csv\").preprocess()"
   ]
  },
  {
   "cell_type": "code",
   "execution_count": 137,
   "metadata": {},
   "outputs": [
    {
     "output_type": "execute_result",
     "data": {
      "text/plain": [
       "(51002, 4)"
      ]
     },
     "metadata": {},
     "execution_count": 137
    }
   ],
   "source": [
    "data.shape"
   ]
  },
  {
   "source": [
    "data.head()"
   ],
   "cell_type": "code",
   "metadata": {},
   "execution_count": 145,
   "outputs": [
    {
     "output_type": "execute_result",
     "data": {
      "text/plain": [
       "                                             comment  \\\n",
       "0  Best seat on this aircraft. Overhead bins on l...   \n",
       "1  I flew from Frankfurt to Heathrow on my way ba...   \n",
       "2  Seat is too narrow, is poorly designed, and ha...   \n",
       "3  Got upgraded to this while having purchased th...   \n",
       "4  Good seat with plenty legroom. Only disadvanta...   \n",
       "\n",
       "                                     comment_cleaned  \\\n",
       "0  best seat on this aircraft overhead bins on le...   \n",
       "1  i flew from frankfurt to heathrow on my way ba...   \n",
       "2  seat is too narrow is poorly designed and has ...   \n",
       "3  got upgraded to this while having purchased th...   \n",
       "4  good seat with plenty legroom only disadvantag...   \n",
       "\n",
       "                                comment_no_stopwords  \\\n",
       "0  best seat aircraft overhead bins left side sma...   \n",
       "1  flew frankfurt heathrow way back houston unhap...   \n",
       "2  seat narrow poorly designed insufficient paddi...   \n",
       "3  got upgraded purchased lowest fare class x sea...   \n",
       "4  good seat plenty legroom disadvantage cant rec...   \n",
       "\n",
       "                                  comment_lemmatized  topic_idx  \n",
       "0  best seat aircraft overhead bins left side sma...          1  \n",
       "1  flew frankfurt heathrow way back houston unhap...          1  \n",
       "2  seat narrow poorly designed insufficient paddi...          1  \n",
       "3  got upgraded purchased lowest fare class seat ...          1  \n",
       "4  good seat plenty legroom disadvantage recline ...          1  "
      ],
      "text/html": "<div>\n<style scoped>\n    .dataframe tbody tr th:only-of-type {\n        vertical-align: middle;\n    }\n\n    .dataframe tbody tr th {\n        vertical-align: top;\n    }\n\n    .dataframe thead th {\n        text-align: right;\n    }\n</style>\n<table border=\"1\" class=\"dataframe\">\n  <thead>\n    <tr style=\"text-align: right;\">\n      <th></th>\n      <th>comment</th>\n      <th>comment_cleaned</th>\n      <th>comment_no_stopwords</th>\n      <th>comment_lemmatized</th>\n      <th>topic_idx</th>\n    </tr>\n  </thead>\n  <tbody>\n    <tr>\n      <th>0</th>\n      <td>Best seat on this aircraft. Overhead bins on l...</td>\n      <td>best seat on this aircraft overhead bins on le...</td>\n      <td>best seat aircraft overhead bins left side sma...</td>\n      <td>best seat aircraft overhead bins left side sma...</td>\n      <td>1</td>\n    </tr>\n    <tr>\n      <th>1</th>\n      <td>I flew from Frankfurt to Heathrow on my way ba...</td>\n      <td>i flew from frankfurt to heathrow on my way ba...</td>\n      <td>flew frankfurt heathrow way back houston unhap...</td>\n      <td>flew frankfurt heathrow way back houston unhap...</td>\n      <td>1</td>\n    </tr>\n    <tr>\n      <th>2</th>\n      <td>Seat is too narrow, is poorly designed, and ha...</td>\n      <td>seat is too narrow is poorly designed and has ...</td>\n      <td>seat narrow poorly designed insufficient paddi...</td>\n      <td>seat narrow poorly designed insufficient paddi...</td>\n      <td>1</td>\n    </tr>\n    <tr>\n      <th>3</th>\n      <td>Got upgraded to this while having purchased th...</td>\n      <td>got upgraded to this while having purchased th...</td>\n      <td>got upgraded purchased lowest fare class x sea...</td>\n      <td>got upgraded purchased lowest fare class seat ...</td>\n      <td>1</td>\n    </tr>\n    <tr>\n      <th>4</th>\n      <td>Good seat with plenty legroom. Only disadvanta...</td>\n      <td>good seat with plenty legroom only disadvantag...</td>\n      <td>good seat plenty legroom disadvantage cant rec...</td>\n      <td>good seat plenty legroom disadvantage recline ...</td>\n      <td>1</td>\n    </tr>\n  </tbody>\n</table>\n</div>"
     },
     "metadata": {},
     "execution_count": 145
    }
   ]
  },
  {
   "cell_type": "code",
   "execution_count": 146,
   "metadata": {},
   "outputs": [],
   "source": [
    "tm_model = BERTopicModel()"
   ]
  },
  {
   "cell_type": "code",
   "execution_count": 147,
   "metadata": {},
   "outputs": [],
   "source": [
    "clusters = tm_model.cluster_reviews(data.comment_lemmatized.values, n_topics_max=100)"
   ]
  },
  {
   "cell_type": "code",
   "execution_count": 148,
   "metadata": {},
   "outputs": [],
   "source": [
    "topics = tm_model.get_topics_description()"
   ]
  },
  {
   "cell_type": "code",
   "execution_count": 149,
   "metadata": {},
   "outputs": [],
   "source": [
    "data[\"topic_idx\"] = pd.Series(clusters)\n",
    "data.to_csv(\"../data/reviews_with_topic.csv\", index=False, sep=\"|\")\n",
    "topics.to_csv(\"../data/topics.csv\", index=False, sep=\";\")"
   ]
  }
 ]
}