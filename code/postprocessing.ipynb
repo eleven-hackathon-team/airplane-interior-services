{
 "metadata": {
  "language_info": {
   "codemirror_mode": {
    "name": "ipython",
    "version": 3
   },
   "file_extension": ".py",
   "mimetype": "text/x-python",
   "name": "python",
   "nbconvert_exporter": "python",
   "pygments_lexer": "ipython3",
   "version": "3.8.3-final"
  },
  "orig_nbformat": 2,
  "kernelspec": {
   "name": "python3",
   "display_name": "Python 3",
   "language": "python"
  }
 },
 "nbformat": 4,
 "nbformat_minor": 2,
 "cells": [
  {
   "cell_type": "code",
   "execution_count": 1,
   "metadata": {},
   "outputs": [],
   "source": [
    "import pandas as pd\n",
    "import numpy as np"
   ]
  },
  {
   "cell_type": "code",
   "execution_count": 2,
   "metadata": {},
   "outputs": [],
   "source": [
    "data = pd.read_csv(\"../data/output.csv\", sep=\"|\")"
   ]
  },
  {
   "cell_type": "code",
   "execution_count": 3,
   "metadata": {},
   "outputs": [
    {
     "output_type": "execute_result",
     "data": {
      "text/plain": [
       "                                             comment  topic_idx  \\\n",
       "0  Best seat on this aircraft. Overhead bins on l...         -1   \n",
       "1  I flew from Frankfurt to Heathrow on my way ba...         -1   \n",
       "2  Seat is too narrow, is poorly designed, and ha...         -1   \n",
       "3  Got upgraded to this while having purchased th...         -1   \n",
       "4  Good seat with plenty legroom. Only disadvanta...         -1   \n",
       "\n",
       "   polarity_score  \n",
       "0          0.9077  \n",
       "1         -0.6169  \n",
       "2         -0.9116  \n",
       "3          0.8011  \n",
       "4          0.7574  "
      ],
      "text/html": "<div>\n<style scoped>\n    .dataframe tbody tr th:only-of-type {\n        vertical-align: middle;\n    }\n\n    .dataframe tbody tr th {\n        vertical-align: top;\n    }\n\n    .dataframe thead th {\n        text-align: right;\n    }\n</style>\n<table border=\"1\" class=\"dataframe\">\n  <thead>\n    <tr style=\"text-align: right;\">\n      <th></th>\n      <th>comment</th>\n      <th>topic_idx</th>\n      <th>polarity_score</th>\n    </tr>\n  </thead>\n  <tbody>\n    <tr>\n      <th>0</th>\n      <td>Best seat on this aircraft. Overhead bins on l...</td>\n      <td>-1</td>\n      <td>0.9077</td>\n    </tr>\n    <tr>\n      <th>1</th>\n      <td>I flew from Frankfurt to Heathrow on my way ba...</td>\n      <td>-1</td>\n      <td>-0.6169</td>\n    </tr>\n    <tr>\n      <th>2</th>\n      <td>Seat is too narrow, is poorly designed, and ha...</td>\n      <td>-1</td>\n      <td>-0.9116</td>\n    </tr>\n    <tr>\n      <th>3</th>\n      <td>Got upgraded to this while having purchased th...</td>\n      <td>-1</td>\n      <td>0.8011</td>\n    </tr>\n    <tr>\n      <th>4</th>\n      <td>Good seat with plenty legroom. Only disadvanta...</td>\n      <td>-1</td>\n      <td>0.7574</td>\n    </tr>\n  </tbody>\n</table>\n</div>"
     },
     "metadata": {},
     "execution_count": 3
    }
   ],
   "source": [
    "data.head()"
   ]
  },
  {
   "cell_type": "code",
   "execution_count": 4,
   "metadata": {},
   "outputs": [],
   "source": [
    "topics = pd.read_csv(\"../data/topics.csv\", sep=\";\")"
   ]
  },
  {
   "cell_type": "code",
   "execution_count": 5,
   "metadata": {},
   "outputs": [
    {
     "output_type": "execute_result",
     "data": {
      "text/plain": [
       "   topic_idx                                          top_words  topic\n",
       "0         -1  plane, airlines, business, airline, food, cabi...  other\n",
       "1          0  barbados, airways, virgin, antigua, bridgetown...  other\n",
       "2          1  dog, dogs, puppy, pet, pets, zappa, vet, anima...   pets\n",
       "3          3  mauritius, maldives, seychelles, holiday, tray...  other\n",
       "4          4  honolulu, hawaii, maui, angeles, hawaiian, lax...  other"
      ],
      "text/html": "<div>\n<style scoped>\n    .dataframe tbody tr th:only-of-type {\n        vertical-align: middle;\n    }\n\n    .dataframe tbody tr th {\n        vertical-align: top;\n    }\n\n    .dataframe thead th {\n        text-align: right;\n    }\n</style>\n<table border=\"1\" class=\"dataframe\">\n  <thead>\n    <tr style=\"text-align: right;\">\n      <th></th>\n      <th>topic_idx</th>\n      <th>top_words</th>\n      <th>topic</th>\n    </tr>\n  </thead>\n  <tbody>\n    <tr>\n      <th>0</th>\n      <td>-1</td>\n      <td>plane, airlines, business, airline, food, cabi...</td>\n      <td>other</td>\n    </tr>\n    <tr>\n      <th>1</th>\n      <td>0</td>\n      <td>barbados, airways, virgin, antigua, bridgetown...</td>\n      <td>other</td>\n    </tr>\n    <tr>\n      <th>2</th>\n      <td>1</td>\n      <td>dog, dogs, puppy, pet, pets, zappa, vet, anima...</td>\n      <td>pets</td>\n    </tr>\n    <tr>\n      <th>3</th>\n      <td>3</td>\n      <td>mauritius, maldives, seychelles, holiday, tray...</td>\n      <td>other</td>\n    </tr>\n    <tr>\n      <th>4</th>\n      <td>4</td>\n      <td>honolulu, hawaii, maui, angeles, hawaiian, lax...</td>\n      <td>other</td>\n    </tr>\n  </tbody>\n</table>\n</div>"
     },
     "metadata": {},
     "execution_count": 5
    }
   ],
   "source": [
    "topics.head()"
   ]
  },
  {
   "cell_type": "code",
   "execution_count": 7,
   "metadata": {},
   "outputs": [],
   "source": [
    "data[\"topic\"] = data.apply(lambda row: topics.loc[topics.topic_idx==row[1]].topic.values[0], axis=1)"
   ]
  },
  {
   "cell_type": "code",
   "execution_count": 8,
   "metadata": {},
   "outputs": [
    {
     "output_type": "execute_result",
     "data": {
      "text/plain": [
       "                                             comment  topic_idx  \\\n",
       "0  Best seat on this aircraft. Overhead bins on l...         -1   \n",
       "1  I flew from Frankfurt to Heathrow on my way ba...         -1   \n",
       "2  Seat is too narrow, is poorly designed, and ha...         -1   \n",
       "3  Got upgraded to this while having purchased th...         -1   \n",
       "4  Good seat with plenty legroom. Only disadvanta...         -1   \n",
       "\n",
       "   polarity_score  topic  \n",
       "0          0.9077  other  \n",
       "1         -0.6169  other  \n",
       "2         -0.9116  other  \n",
       "3          0.8011  other  \n",
       "4          0.7574  other  "
      ],
      "text/html": "<div>\n<style scoped>\n    .dataframe tbody tr th:only-of-type {\n        vertical-align: middle;\n    }\n\n    .dataframe tbody tr th {\n        vertical-align: top;\n    }\n\n    .dataframe thead th {\n        text-align: right;\n    }\n</style>\n<table border=\"1\" class=\"dataframe\">\n  <thead>\n    <tr style=\"text-align: right;\">\n      <th></th>\n      <th>comment</th>\n      <th>topic_idx</th>\n      <th>polarity_score</th>\n      <th>topic</th>\n    </tr>\n  </thead>\n  <tbody>\n    <tr>\n      <th>0</th>\n      <td>Best seat on this aircraft. Overhead bins on l...</td>\n      <td>-1</td>\n      <td>0.9077</td>\n      <td>other</td>\n    </tr>\n    <tr>\n      <th>1</th>\n      <td>I flew from Frankfurt to Heathrow on my way ba...</td>\n      <td>-1</td>\n      <td>-0.6169</td>\n      <td>other</td>\n    </tr>\n    <tr>\n      <th>2</th>\n      <td>Seat is too narrow, is poorly designed, and ha...</td>\n      <td>-1</td>\n      <td>-0.9116</td>\n      <td>other</td>\n    </tr>\n    <tr>\n      <th>3</th>\n      <td>Got upgraded to this while having purchased th...</td>\n      <td>-1</td>\n      <td>0.8011</td>\n      <td>other</td>\n    </tr>\n    <tr>\n      <th>4</th>\n      <td>Good seat with plenty legroom. Only disadvanta...</td>\n      <td>-1</td>\n      <td>0.7574</td>\n      <td>other</td>\n    </tr>\n  </tbody>\n</table>\n</div>"
     },
     "metadata": {},
     "execution_count": 8
    }
   ],
   "source": [
    "data.head()"
   ]
  },
  {
   "cell_type": "code",
   "execution_count": 9,
   "metadata": {},
   "outputs": [],
   "source": [
    "topic_rating = data.groupby(\"topic\", as_index=False).polarity_score.mean()"
   ]
  },
  {
   "cell_type": "code",
   "execution_count": 10,
   "metadata": {},
   "outputs": [
    {
     "output_type": "execute_result",
     "data": {
      "text/plain": [
       "     topic  polarity_score\n",
       "0    aisle        0.110287\n",
       "1  booking        0.125556\n",
       "2  comfort        0.787025\n",
       "3    covid       -0.178567\n",
       "4    delay        0.512241"
      ],
      "text/html": "<div>\n<style scoped>\n    .dataframe tbody tr th:only-of-type {\n        vertical-align: middle;\n    }\n\n    .dataframe tbody tr th {\n        vertical-align: top;\n    }\n\n    .dataframe thead th {\n        text-align: right;\n    }\n</style>\n<table border=\"1\" class=\"dataframe\">\n  <thead>\n    <tr style=\"text-align: right;\">\n      <th></th>\n      <th>topic</th>\n      <th>polarity_score</th>\n    </tr>\n  </thead>\n  <tbody>\n    <tr>\n      <th>0</th>\n      <td>aisle</td>\n      <td>0.110287</td>\n    </tr>\n    <tr>\n      <th>1</th>\n      <td>booking</td>\n      <td>0.125556</td>\n    </tr>\n    <tr>\n      <th>2</th>\n      <td>comfort</td>\n      <td>0.787025</td>\n    </tr>\n    <tr>\n      <th>3</th>\n      <td>covid</td>\n      <td>-0.178567</td>\n    </tr>\n    <tr>\n      <th>4</th>\n      <td>delay</td>\n      <td>0.512241</td>\n    </tr>\n  </tbody>\n</table>\n</div>"
     },
     "metadata": {},
     "execution_count": 10
    }
   ],
   "source": [
    "topic_rating.head()"
   ]
  },
  {
   "cell_type": "code",
   "execution_count": 11,
   "metadata": {},
   "outputs": [],
   "source": [
    "topic_rating.to_csv(\"../data/topic_rating.csv\", index=False)"
   ]
  },
  {
   "cell_type": "code",
   "execution_count": null,
   "metadata": {},
   "outputs": [],
   "source": []
  }
 ]
}