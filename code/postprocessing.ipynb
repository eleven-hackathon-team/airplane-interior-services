{
 "metadata": {
  "language_info": {
   "codemirror_mode": {
    "name": "ipython",
    "version": 3
   },
   "file_extension": ".py",
   "mimetype": "text/x-python",
   "name": "python",
   "nbconvert_exporter": "python",
   "pygments_lexer": "ipython3",
   "version": "3.8.3-final"
  },
  "orig_nbformat": 2,
  "kernelspec": {
   "name": "python3",
   "display_name": "Python 3",
   "language": "python"
  }
 },
 "nbformat": 4,
 "nbformat_minor": 2,
 "cells": [
  {
   "cell_type": "code",
   "execution_count": 1,
   "metadata": {},
   "outputs": [],
   "source": [
    "import pandas as pd\n",
    "import numpy as np"
   ]
  },
  {
   "source": [
    "### Linking topic_idx to topic"
   ],
   "cell_type": "markdown",
   "metadata": {}
  },
  {
   "cell_type": "code",
   "execution_count": 59,
   "metadata": {},
   "outputs": [],
   "source": [
    "data = pd.read_csv(\"../data/output.csv\", sep=\"|\")"
   ]
  },
  {
   "cell_type": "code",
   "execution_count": 60,
   "metadata": {},
   "outputs": [
    {
     "output_type": "execute_result",
     "data": {
      "text/plain": [
       "                                             comment  topic_idx  \\\n",
       "0  Best seat on this aircraft. Overhead bins on l...         -1   \n",
       "1  I flew from Frankfurt to Heathrow on my way ba...         -1   \n",
       "2  Seat is too narrow, is poorly designed, and ha...         -1   \n",
       "3  Got upgraded to this while having purchased th...         -1   \n",
       "4  Good seat with plenty legroom. Only disadvanta...         -1   \n",
       "\n",
       "   polarity_score  \n",
       "0          0.9077  \n",
       "1         -0.6169  \n",
       "2         -0.9116  \n",
       "3          0.8011  \n",
       "4          0.7574  "
      ],
      "text/html": "<div>\n<style scoped>\n    .dataframe tbody tr th:only-of-type {\n        vertical-align: middle;\n    }\n\n    .dataframe tbody tr th {\n        vertical-align: top;\n    }\n\n    .dataframe thead th {\n        text-align: right;\n    }\n</style>\n<table border=\"1\" class=\"dataframe\">\n  <thead>\n    <tr style=\"text-align: right;\">\n      <th></th>\n      <th>comment</th>\n      <th>topic_idx</th>\n      <th>polarity_score</th>\n    </tr>\n  </thead>\n  <tbody>\n    <tr>\n      <th>0</th>\n      <td>Best seat on this aircraft. Overhead bins on l...</td>\n      <td>-1</td>\n      <td>0.9077</td>\n    </tr>\n    <tr>\n      <th>1</th>\n      <td>I flew from Frankfurt to Heathrow on my way ba...</td>\n      <td>-1</td>\n      <td>-0.6169</td>\n    </tr>\n    <tr>\n      <th>2</th>\n      <td>Seat is too narrow, is poorly designed, and ha...</td>\n      <td>-1</td>\n      <td>-0.9116</td>\n    </tr>\n    <tr>\n      <th>3</th>\n      <td>Got upgraded to this while having purchased th...</td>\n      <td>-1</td>\n      <td>0.8011</td>\n    </tr>\n    <tr>\n      <th>4</th>\n      <td>Good seat with plenty legroom. Only disadvanta...</td>\n      <td>-1</td>\n      <td>0.7574</td>\n    </tr>\n  </tbody>\n</table>\n</div>"
     },
     "metadata": {},
     "execution_count": 60
    }
   ],
   "source": [
    "data.head()"
   ]
  },
  {
   "cell_type": "code",
   "execution_count": 61,
   "metadata": {},
   "outputs": [],
   "source": [
    "topics = pd.read_csv(\"../data/topics.csv\", sep=\";\")"
   ]
  },
  {
   "cell_type": "code",
   "execution_count": 62,
   "metadata": {},
   "outputs": [
    {
     "output_type": "execute_result",
     "data": {
      "text/plain": [
       "   topic_idx                                          top_words  topic\n",
       "0         -1  plane, airlines, business, airline, food, cabi...  other\n",
       "1          0  barbados, airways, virgin, antigua, bridgetown...  other\n",
       "2          1  dog, dogs, puppy, pet, pets, zappa, vet, anima...   pets\n",
       "3          3  mauritius, maldives, seychelles, holiday, tray...  other\n",
       "4          4  honolulu, hawaii, maui, angeles, hawaiian, lax...  other"
      ],
      "text/html": "<div>\n<style scoped>\n    .dataframe tbody tr th:only-of-type {\n        vertical-align: middle;\n    }\n\n    .dataframe tbody tr th {\n        vertical-align: top;\n    }\n\n    .dataframe thead th {\n        text-align: right;\n    }\n</style>\n<table border=\"1\" class=\"dataframe\">\n  <thead>\n    <tr style=\"text-align: right;\">\n      <th></th>\n      <th>topic_idx</th>\n      <th>top_words</th>\n      <th>topic</th>\n    </tr>\n  </thead>\n  <tbody>\n    <tr>\n      <th>0</th>\n      <td>-1</td>\n      <td>plane, airlines, business, airline, food, cabi...</td>\n      <td>other</td>\n    </tr>\n    <tr>\n      <th>1</th>\n      <td>0</td>\n      <td>barbados, airways, virgin, antigua, bridgetown...</td>\n      <td>other</td>\n    </tr>\n    <tr>\n      <th>2</th>\n      <td>1</td>\n      <td>dog, dogs, puppy, pet, pets, zappa, vet, anima...</td>\n      <td>pets</td>\n    </tr>\n    <tr>\n      <th>3</th>\n      <td>3</td>\n      <td>mauritius, maldives, seychelles, holiday, tray...</td>\n      <td>other</td>\n    </tr>\n    <tr>\n      <th>4</th>\n      <td>4</td>\n      <td>honolulu, hawaii, maui, angeles, hawaiian, lax...</td>\n      <td>other</td>\n    </tr>\n  </tbody>\n</table>\n</div>"
     },
     "metadata": {},
     "execution_count": 62
    }
   ],
   "source": [
    "topics.head()"
   ]
  },
  {
   "cell_type": "code",
   "execution_count": 63,
   "metadata": {},
   "outputs": [],
   "source": [
    "data[\"topic\"] = data.apply(lambda row: topics.loc[topics.topic_idx==row[1]].topic.values[0], axis=1)"
   ]
  },
  {
   "cell_type": "code",
   "execution_count": 64,
   "metadata": {},
   "outputs": [
    {
     "output_type": "execute_result",
     "data": {
      "text/plain": [
       "                                             comment  topic_idx  \\\n",
       "0  Best seat on this aircraft. Overhead bins on l...         -1   \n",
       "1  I flew from Frankfurt to Heathrow on my way ba...         -1   \n",
       "2  Seat is too narrow, is poorly designed, and ha...         -1   \n",
       "3  Got upgraded to this while having purchased th...         -1   \n",
       "4  Good seat with plenty legroom. Only disadvanta...         -1   \n",
       "\n",
       "   polarity_score  topic  \n",
       "0          0.9077  other  \n",
       "1         -0.6169  other  \n",
       "2         -0.9116  other  \n",
       "3          0.8011  other  \n",
       "4          0.7574  other  "
      ],
      "text/html": "<div>\n<style scoped>\n    .dataframe tbody tr th:only-of-type {\n        vertical-align: middle;\n    }\n\n    .dataframe tbody tr th {\n        vertical-align: top;\n    }\n\n    .dataframe thead th {\n        text-align: right;\n    }\n</style>\n<table border=\"1\" class=\"dataframe\">\n  <thead>\n    <tr style=\"text-align: right;\">\n      <th></th>\n      <th>comment</th>\n      <th>topic_idx</th>\n      <th>polarity_score</th>\n      <th>topic</th>\n    </tr>\n  </thead>\n  <tbody>\n    <tr>\n      <th>0</th>\n      <td>Best seat on this aircraft. Overhead bins on l...</td>\n      <td>-1</td>\n      <td>0.9077</td>\n      <td>other</td>\n    </tr>\n    <tr>\n      <th>1</th>\n      <td>I flew from Frankfurt to Heathrow on my way ba...</td>\n      <td>-1</td>\n      <td>-0.6169</td>\n      <td>other</td>\n    </tr>\n    <tr>\n      <th>2</th>\n      <td>Seat is too narrow, is poorly designed, and ha...</td>\n      <td>-1</td>\n      <td>-0.9116</td>\n      <td>other</td>\n    </tr>\n    <tr>\n      <th>3</th>\n      <td>Got upgraded to this while having purchased th...</td>\n      <td>-1</td>\n      <td>0.8011</td>\n      <td>other</td>\n    </tr>\n    <tr>\n      <th>4</th>\n      <td>Good seat with plenty legroom. Only disadvanta...</td>\n      <td>-1</td>\n      <td>0.7574</td>\n      <td>other</td>\n    </tr>\n  </tbody>\n</table>\n</div>"
     },
     "metadata": {},
     "execution_count": 64
    }
   ],
   "source": [
    "data.head()"
   ]
  },
  {
   "source": [
    "### Computing average polarity_score per topic"
   ],
   "cell_type": "markdown",
   "metadata": {}
  },
  {
   "cell_type": "code",
   "execution_count": 65,
   "metadata": {},
   "outputs": [],
   "source": [
    "topic_rating = data.groupby(\"topic\", as_index=False).polarity_score.mean()"
   ]
  },
  {
   "cell_type": "code",
   "execution_count": 66,
   "metadata": {},
   "outputs": [
    {
     "output_type": "execute_result",
     "data": {
      "text/plain": [
       "     topic  polarity_score\n",
       "0    aisle        0.110287\n",
       "1  booking        0.125556\n",
       "2  comfort        0.787025\n",
       "3    covid       -0.178567\n",
       "4    delay        0.512241"
      ],
      "text/html": "<div>\n<style scoped>\n    .dataframe tbody tr th:only-of-type {\n        vertical-align: middle;\n    }\n\n    .dataframe tbody tr th {\n        vertical-align: top;\n    }\n\n    .dataframe thead th {\n        text-align: right;\n    }\n</style>\n<table border=\"1\" class=\"dataframe\">\n  <thead>\n    <tr style=\"text-align: right;\">\n      <th></th>\n      <th>topic</th>\n      <th>polarity_score</th>\n    </tr>\n  </thead>\n  <tbody>\n    <tr>\n      <th>0</th>\n      <td>aisle</td>\n      <td>0.110287</td>\n    </tr>\n    <tr>\n      <th>1</th>\n      <td>booking</td>\n      <td>0.125556</td>\n    </tr>\n    <tr>\n      <th>2</th>\n      <td>comfort</td>\n      <td>0.787025</td>\n    </tr>\n    <tr>\n      <th>3</th>\n      <td>covid</td>\n      <td>-0.178567</td>\n    </tr>\n    <tr>\n      <th>4</th>\n      <td>delay</td>\n      <td>0.512241</td>\n    </tr>\n  </tbody>\n</table>\n</div>"
     },
     "metadata": {},
     "execution_count": 66
    }
   ],
   "source": [
    "topic_rating.head()"
   ]
  },
  {
   "cell_type": "code",
   "execution_count": 11,
   "metadata": {},
   "outputs": [],
   "source": [
    "topic_rating.to_csv(\"../data/topic_rating.csv\", index=False)"
   ]
  },
  {
   "cell_type": "code",
   "execution_count": 67,
   "metadata": {},
   "outputs": [
    {
     "output_type": "execute_result",
     "data": {
      "text/plain": [
       "      topic  polarity_score\n",
       "3     covid       -0.178567\n",
       "6    family       -0.198686\n",
       "10  luggage       -0.294249\n",
       "11   movies       -0.009200\n",
       "12    noise       -0.036642\n",
       "14     pets       -0.141228\n",
       "17    space       -0.027121\n",
       "18  storage       -0.223068\n",
       "21  windows       -0.063967"
      ],
      "text/html": "<div>\n<style scoped>\n    .dataframe tbody tr th:only-of-type {\n        vertical-align: middle;\n    }\n\n    .dataframe tbody tr th {\n        vertical-align: top;\n    }\n\n    .dataframe thead th {\n        text-align: right;\n    }\n</style>\n<table border=\"1\" class=\"dataframe\">\n  <thead>\n    <tr style=\"text-align: right;\">\n      <th></th>\n      <th>topic</th>\n      <th>polarity_score</th>\n    </tr>\n  </thead>\n  <tbody>\n    <tr>\n      <th>3</th>\n      <td>covid</td>\n      <td>-0.178567</td>\n    </tr>\n    <tr>\n      <th>6</th>\n      <td>family</td>\n      <td>-0.198686</td>\n    </tr>\n    <tr>\n      <th>10</th>\n      <td>luggage</td>\n      <td>-0.294249</td>\n    </tr>\n    <tr>\n      <th>11</th>\n      <td>movies</td>\n      <td>-0.009200</td>\n    </tr>\n    <tr>\n      <th>12</th>\n      <td>noise</td>\n      <td>-0.036642</td>\n    </tr>\n    <tr>\n      <th>14</th>\n      <td>pets</td>\n      <td>-0.141228</td>\n    </tr>\n    <tr>\n      <th>17</th>\n      <td>space</td>\n      <td>-0.027121</td>\n    </tr>\n    <tr>\n      <th>18</th>\n      <td>storage</td>\n      <td>-0.223068</td>\n    </tr>\n    <tr>\n      <th>21</th>\n      <td>windows</td>\n      <td>-0.063967</td>\n    </tr>\n  </tbody>\n</table>\n</div>"
     },
     "metadata": {},
     "execution_count": 67
    }
   ],
   "source": [
    "topic_rating.loc[topic_rating.polarity_score < 0]"
   ]
  },
  {
   "source": [
    "### Further Analysis on negative topics"
   ],
   "cell_type": "markdown",
   "metadata": {}
  },
  {
   "cell_type": "code",
   "execution_count": 79,
   "metadata": {},
   "outputs": [
    {
     "output_type": "stream",
     "name": "stdout",
     "text": [
      "['wife, booked, family, wedding, husband, airlines, daughter, plane, mother, airport']\n",
      "\n",
      " Row 66 has the problem that the babies are placed in the row in front. We had a baby crying constantly for the 13 hour flight from Singapore to Paris which we could hear even through ear plugs! Poor mother, poor us. We are pensioners and had saved for this treat in business class. Instead of a treat it was a nightmare!\n",
      "\n",
      " My wife and I flew  on a late overnight  JFK to LHR in 15A Nd 15B. Disappointed that it was a rather shabby unreburbished 747 with tired , but comfortable,  seats. Tiny, poor quality screens, collapsing leg rest in 15A which meant the lifejacket stored in it kept rolling onto the floor. 15B footrest was broken. BA really do need to look at the product they are offering or lose business fast. Plenty of space between the seat and the windowand , because there was no seat behind us , we could recline as far as and when we wanted. Having the toilet behind was no problem, there was no noise disturbance from it or the galley.Service was good , from fizz when we arrived , G&T and a decent meal with plenty of wine. Breakfast non--existent apart from a tiny coffee and an inedible malt loaf slice , Cabin service good to start with but we were ignored in the morning when we asked about making our tight connection( which we missed because we were late at LHR, no help or advice at all.\n",
      "Being very near the front of the aircraft and because we disembarked down steps to a bus the exit door was immediately behind us and we were first off the aircraft. Would choose the same seats again , but hopefully   on a \" new\" 747. Resent having to pay a large surcharge to reserve a particular seat on WT+\n",
      "\n",
      " As families with very small children (babies) are placed in row 24A-K, you should avoid row 25-26-27-28 if you do not want to spend you trip among crying babies! Emirates does not state anything about \"family\" row 24 & 41 & 52 on their homepage.\n",
      "\n",
      " Travelling with 2 small kids (one using basinet). I would deter families from booing these basinet seats at all costs purely because there is no overhead bins. Because it is at an emergnency exit, for some reason the configuration is such that Row 80 has no bins above it and others are full of flight attendant kit. MOst of our bags had to be stowed down at the front of the plane which, when you have changing bags, food and milk for infants is very inconvenient.\n",
      "\n",
      " I've just returned from a trip from Australia to Europe and US, and also flown on a Qantas B789. This flight was the most unpleasant for me. Plus was a little bit extra legroom. The seat was significantly narrow. Fortunately I had a slim mother next to me for most of the flight, but when her husband swapped seats toward the end we were bumping arms and shoulders most of the time. Their baby was in a cot, so this cut off the short cut to toilets that other passengers have commented on. Big negative for me is that BA has decided to remove the air outlets from above the seats, in economy anyway. The flight seemed warm and stuffy and I couldn't wait to leave. This was not the case in the Qantas version of the aircraft. Unless I can get Premium Economy, I'd probably avoid this aircraft and route in future.\n",
      "\n",
      " People travelling with babies are usually seated next to 53C because the cribs can be used. This means you are seated next to crying babies. Also the serving area is just in front so if the curtain is not closed properly you will get the light in your eyes most of the flight.\n",
      "\n",
      " British Airways has really slipped on their customer service.   Despite their poor seating arrangement for business class, they do not allow you to reserve your seat choice at the time of your booking.  Rather, if you wish to reserve your seat (for you and/or your spouse) they require to pay extra, based on the location and orientation of the seats. We did this for both the outbound and return flight, but our reservation (that we paid for over two months in advance) was lost for the return flight and BA tried to give me the rear-facing middle seat.  After acknowledging I had reserved the seat, and seeing the paid receipt, they found a similar forward facing aisle seat for me.  My wife has her return flight a week later and when I returned from my flight, I checked manage my reservations on the British Airways webpage.  Sure enough, her seat reservation is now not showing.  When I try to make the changes to reserve her seat, it will allow me to make the shorter connection flight but not the longer flight from Hong Kong to Londonthe flight we paid the premium for.  It indicated I must call customer service, who proved to be no help.  They informed me they would have to speak to my wife (still traveling in China) to make a seat selectioneven though they begrudgingly admit I made the reservations and paid for the seat premium.  I lodged a complaint but have received no feedback from BA, nor has the seat reservation been resolved.  Bad service BA, and lack of customer support.\n",
      "\n",
      " Not advised for those travelling with infants even though it is a bassinet seat. \n",
      "\n",
      "Once bassinet in place cannot use entertainment system in seats a or b. If you need to leave the row (for toilet etc) you will need to dismantle bassinet.\n",
      "\n",
      "This is not the case in othet bassinet seats on the same aircraft. We asked to move as situation not suitable for an 11hour flight with a 5month old baby.\n",
      "\n",
      " Ended up on the -300er coming back from Japan in October. Typhoon had cancelled flights the day before, so they swapped this out for the smaller -200er. 1st seat behind the bulkhead, some extra space for footwell. I personally didn't find any issues with Galley or Lavatory noise during the flight. Crew were very polite, addressed me by name, even when I switched seats with another passenger to seat with my buddy. Food was solid, IFE was solid. WIFI was slow and not super reliable, but 20 bucks for the whole flight to stay in touch with the wife and kid was wirth it.\n",
      "\n",
      " We were booked on a 777; AF changed it to a 380. The seats are NOT lie-flat, they are angled-flat. Since we were westbound, I did not care much, since I wanted to stay awake; it bothered my wife (70B), who wanted to get some sleep, Had this happened on the red-eye going easy (JFK to CDG), we would have been REALLY pissed off.\n",
      "\n",
      "My wife says business class on the 380 is just glorified coach+\n",
      "\n",
      "The plane waited 45 minutes from landing to gate (double jetways are probably scarce), seems to have run out of fuel (we were TOWED to the gate)\n",
      "\n",
      "Moral: \"if it's not Boeing, I ain't going!\"\n"
     ]
    }
   ],
   "source": [
    "# \"Family\" topic\n",
    "print(topics.loc[topics.topic==\"family\"].top_words.values)\n",
    "\n",
    "for i in range(10):\n",
    "    print(f'\\n {data.loc[(data.topic==\"family\")&(data.polarity_score<0)].comment.values[i]}')"
   ]
  },
  {
   "source": [
    "--> crying babies & bassinet seats"
   ],
   "cell_type": "markdown",
   "metadata": {}
  },
  {
   "cell_type": "code",
   "execution_count": 80,
   "metadata": {},
   "outputs": [
    {
     "output_type": "stream",
     "name": "stdout",
     "text": [
      "['plane, attendants, luggage, lockers, copilot, staff, bags, planes, baggage, overhead'\n 'bag, check, bags, luggage, checked, desk, queue, staff, checkin, security'\n 'damaged, bag, cancelled, damage, baggage, breakable, terrible, luggage, suitcase, chaos'\n 'bag, carryon, bags, luggage, customer, poor, baggage, passengers, desk, pay'\n 'worst, baggage, luggage, ticket, purchases, airline, damaged, bag, rude, roller']\n\n There are two wardrobes in front of this seat, one on either side of this aisle, and the crew keep their uniforms and bags in them.  On this flight, I was disturbed and woken several times as crew used these wardrobes.\n\nThere are also bright lights above the help-yourself snack area behind seat 7J.  Although there is a curtain in front, it does not properly mask the light which is in direct line of sight of rear-facing seat 7E and might also bother the forward-facing 7F.\n\n We flew out to hong kong last week. Seat was above average for PE but BA still have not learned that the reclining seat in front is a complete no no to some of us. Once reclined in your own space it is almost impossible to get out of your seat without grabbing the head rest of the seat in front thus causing both parties some annoyance. Air NZ have designed this flaw out with their space seats but it seems BA have gone down the recliner route thus annoying both passengers\n\n The seat was fine and the leg room was very good.  The plan layout was bad.  I am saying this because you cannot walk a loop in coach.  They put all the carts in the back and that blocks the walking.  I was on a 12hr flight and you need to walk every 2hrs if possible.  I will not rind this plane again if possible.\n\n Avoid this seat. Delta installed a flight attendant's jumpseat facing what would have been seat 32A. The fflight attendant's telephone equipment blocks the storage under the seat. Finally, this seat is an inch narrower than other coach seats\n\n Air France customer review.After 3 hours in the plane waiting for repairs the hostess announced that we needed to disembark, we wait another 3 hours at the gate without any clear info on what was happening. People started getting upset and complained and in exchange they got a 8 Euro coupon for a drink, many others did not realize this and did not get anything. Then they made an announcement saying that the flight was canceled and told us to go to the main departure check-in desk, in broken English that not very clear. They did not say which desk, whether or not we had to claim the luggage. At 8pm eventually we reach the departure gate, we were rerouted, got a poor motel and a 16 euro coupon for dinner, a total disaster. Got the luggage 36 hours later.\n\n everyone was extremely rude. I had a roller bag with me and was flying a 2 stop 19 hour flight. They took my roller bag for checking in and forced me to put the weight of both bags into my backpack. When I came out of the plane everyone was extremely rude and refused to help me get my roller bag back. I was forced to carry 20 pounds on my back for 19 hours. What they did to me was inhumane.\n\n Very disappointed with Delta.Not Verified | Orange County to Minneapolis. Very disappointed with Delta. I was told I needed to check my carry on. I adhered to the rules of a carry-on and a personal item yet they allowed another person before me to board with four (yes, 4) bags. I believe the rules should be followed by everyone. I can understand my checking my bag as it’s necessary but everyone should follow the same rules. Check her 2 additional bags.\n\n there is no sign of the bag. Las Vegas to New York JFK . Most pathetic experience ever. My carry on bag was taken from my possession on board the flight as the overhead compartments were full. One of the hostesses came to our aid who promised to tag my bag and send it to the checked in baggage on the aircraft, of which I left total faith in the integrity of the staff. She apparently tagged my bag according to my seat number, and no receipt of this was given to me. When i disembarked the flight, while awaiting the baggage there is no sign of the bag. No one from Delta can give me any answers. It seems to be 'lost' or so im told. I have made numerous calls to the agents and i keep being told they are searching for the bag as there are many bags from Delta which are untagged. I am currently miles away from home on a holiday which i saved up for a long time, the agents tell me to go ahead and purchase whatever needs to be replaced from the bag, then i am told it will take 4 weeks for the claim to be processed and there is no guarantee it will be fully reimbursed!\n\n Customer service is garbage. This is definitely my last flight with Delta Air Lines. Customer service is garbage, takes hours to speak to someone and is a pain in the ass to make any adjustments to your flight. Upgraded to what I thought was Delta One (lie flat) instead got the single most uncomfortable first class seat I’ve ever sat in. It’s a bit wider than a normal seat but hard as a rock. Don’t pay premium prices for what has turned into a budget airline.\n\n Avoid this airline for international connections.✅ Verified Review | Originally supposed to fly Boston to Vienna via Amsterdam. I arrived at terminal A at the airport in Boston at 13.00 for the 16.45 flight. Check-in took longer than it should. I then went to the Delta skyclub lounge and it was dirty. The food was mediocre. You also have to ask an employee for the wifi password. I went to the gate and the flight started boarding at the normal time. Seats were not the most comfortable, even for business class. A crew member rudely forced me to put my passport in the overhead bin rather than in front of me. I never forget stuff on aircrafts! We were just about to depart when the captain told us there was a delay because of a broken air vent in the cockpit that was just discovered. The plane was sitting at that gate all day. Why didn’t they spot the damage when the plane arrived from Amsterdam that morning? First the crew spent 25 minutes trying to fix the vent in the hot sun with no air conditioning allowed, then another 30 minutes talking on the phone with their maintenance HQ, then they told us there would be a delay until 20.30 at night. We were forced to exit the aircraft so they could take it to the hangar. Now we had 300 people with missed connections waiting in line at the help desk with only 2 employees there. The staff acted uncaring and oblivious and many people were getting very angry with them. When I reached the front of the line the Delta customer service staff told me I couldn’t do anything and I was forced to stay on this delayed flight. They didn’t even look at other options! I did not see them look down at their computer screens when I asked them about re-booking. They probably just want my money. They never updated us on the repair progress but the flight was now delayed until 23.00. At that point I wouldn’t make it back to Austria for another 2 days. I called my travel agent and they successfully rebooked me on a 22.15 Lufthansa flight through Frankfurt. It was on time and everything about that airline (lounge and aircraft) was so much better than Delta! I arrived in Vienna 5 hours later than expected. I later found out the Delta flight to Amsterdam was eventually cancelled. Avoid this airline for international connections!\n"
     ]
    }
   ],
   "source": [
    "# \"Luggage\" topic\n",
    "print(topics.loc[topics.topic==\"luggage\"].top_words.values)\n",
    "\n",
    "for i in range(10):\n",
    "    print(f'\\n {data.loc[(data.topic==\"luggage\")&(data.polarity_score<0)].comment.values[i]}')"
   ]
  },
  {
   "source": [
    "--> Crew's wardrobe taking place of the luggage, travellers are waken up by the crew accessing to their luggage, lost bagaages"
   ],
   "cell_type": "markdown",
   "metadata": {}
  },
  {
   "cell_type": "code",
   "execution_count": 81,
   "metadata": {},
   "outputs": [
    {
     "output_type": "stream",
     "name": "stdout",
     "text": [
      "['movie, airlines, screen, aircraft, plane, entertainment, movies, planes, boeing, inflight']\n\n Very good seat! You get an amazing view of the wing and is very good for take off and landing as you get to see the flaps and the spoilers in action! The only bad thing is I noticed that the seat I sat in, the In-flight Entertainment was set to the home page, not allowing me to watch any movies at all which was very upsetting. (It was the Gatwick 777-200, Old ones). Also my brother's seat, 22B, was in very bad condition. The tray table was broken and the head rest was falling apart. Watch out on some of these airplanes! Not all are like this but some are.\n\n This was my first experience with American Airlines, and I was very disappointed by the experience. First, the seat belt was attached wrong so that it would tie around once. Second, the power outlet was located below the armset, which made it very hard to charge my laptop. Several times I had to crouch down and reconnect my charger.\nThe good thing was that they seated my family in a Preferred Seat. After the flight, I realized that my seat was reserved for AAdvantage members. However, it was my family's first flight on American Airlines. We did NOT have a AAdvantage, but American Airline automatically reserved this as our seat.\n\nOverall, the experience was \"Poor\". Next time, I would rather use another airline.\n\n very nice window view and respectful flight attendants but very boring because there is no tv and the seat belt was broken. very old fahion plane.\n\n In business, and I was not able to even watch a movie because the screen was broken. It was a issue reported many times, but the technicians dont care. I know that because we have flown with identical aircraft a week earlier, and the screen still broken. Upper deck is much nicer as you have more storage on the side. But also on the same plane in the upper deck the seat 61J has the same problem with the screen. It wont hold in position, and you cant watch movies. Also the screens resolution is way outdated. But lets be glad we can sleep and sit really comfortably  on a 12 hours journey.\n\n Took this plane from CDG to LAX.  Noticed in the kitchen area when boarding, the formica surface was worn through.  It's old.  Video screens are dull and small, seat pockets are torn and the overall appearance is dated.   Staff did a good job.  Bring your own movie.\n\n Some other comments are mistakenly for the old USAir 321 configuration.  This is a new configuration - great IFE, powerports etc., but seat has thin padding, and to me seems lower shoulder height than some other F seats.  Not very comfortable for longer hauls - if you qualify for MCE/extra legroom seats in coach you're not missing a lot.\n\n LAX-CDG\nFirst time on the A380 and I thought it would be a great experience to be on the upper deck so I purchased duo seats 92 K-L. Unfortunately, about 6 weeks to departure I logged in to check flight times and found this flight completely missing from my itinerary. After 90 minutes on the phone they added it back in with no explanation or apology for the missing segment and the K-L seats or any upper deck duo seats no longer available. Again without any apology, we were stuck with 91 D-E as the best alternative.\n\nThese were good seats. The seats seemed a little narrow but overall was an average economy seat with average comfort and average recline for a long-haul. I was really disappointed with the cabin. Old, outdated, all the white was yellowed. Rather shabby really.\n\n The plane is very nice and the leg room in Row 11 is incredible for an exit row. Only complaint is the personal TV which only has TV shows. There no movies available at this time. Flight attendant told me the movies were available from January to May but they have stopped them. No movie is even played on the general monitors. Again, nice plane, but I was disappointed with the video system on the plane.\n\n neither movie monitor worked.✅ Verified Review | On our flight to Paris from Los Angeles, neither movie monitor worked. Not only did they not work, both were stuck \"on\" so you had bright monitor lights shining in your faces while trying to sleep. It could not be shut off. Then seat 85K would not recline at all, it was broken. So, once the plane's cabin lights were dimmed and everyone around us was asleep, we were left with monitor lights in our eyes and one seat would not recline. I have a bad back so this only made it worse. The plane was full so there were no available seats for us to move. At one point, a flight attendant tried to tape a magazine over the monitors.... only to have them fall off into our laps 20-30 minutes later. These premium economy seats were $2700 more than coach seats, yet they were horrible and an unpleasant start to our vacation. The folks in economy watched movies and their seats reclined. I filed a complain when we got back home with Air France, only to find that Delta Airlines handles the complaints for Air France. They were sorry, and offered some free mileage for the inconvenience. Nothing more, nothing less. Well, this might be a good thing to a frequent flyer, but in our lifetime, we will never have enough mileage, with or without their offering, to earn anything. So the mileage offering was nothing to us. This was a once in a lifetime vacation so we paid the extra money for the upgraded seats, only to have these indicated issues. There is no skin off Delta's nose to handling the complaint. I got the usual \"this is the best we can do\" response. Despite my repeated emails to Delta about this poor offering, they will do no more. The flight back home, two weeks later was great. Monitors worked and the seats reclined, but needless to say, we started off horrible on Air France and it took 3-4 days for the aggravated back issues to subside. If this is how Air France feels, then I'd opt for another airline. And, if Delta is handling the complaints for them, I suspect they would be just as bad. Find another airline besides Air France and Delta. They are not the only ways to fly!\n\n This airline is a total rip off. Cartagena to Toronto via Atlanta. This is premium economy at best. We had zero service Atlanta to Toronto. No television no anything the water was undrinkable due to the uncleanliness and age of plane. Delta charged us for first class yet it was barely premium. Wouldn’t allow us into the lounge! Not good enough tickets? How much more do you have to spend ? This airline is a total rip off using planes they shouldn’t. Isn’t it fraud when selling something that it isn’t? I’m going to look into this.\n"
     ]
    }
   ],
   "source": [
    "# \"Movies\" topic\n",
    "print(topics.loc[topics.topic==\"movies\"].top_words.values)\n",
    "\n",
    "for i in range(10):\n",
    "    print(f'\\n {data.loc[(data.topic==\"movies\")&(data.polarity_score<0)].comment.values[i]}')"
   ]
  },
  {
   "source": [
    "--> Power outlet located below the armchair, broken screen, low screen resolution, small and dull video screen, monitors always on"
   ],
   "cell_type": "markdown",
   "metadata": {}
  },
  {
   "cell_type": "code",
   "execution_count": 82,
   "metadata": {},
   "outputs": [
    {
     "output_type": "stream",
     "name": "stdout",
     "text": [
      "['engine, noise, loud, noisy, engines, turbine, obstructs, annoying, wooshing, louddiscussions']\n\n Directly beside engine. Fumes before take off. Extremely noisy.\n\n This seat oddly features no overhead air vent. Every other row does. Not sure why this is, but it is annoying at first as the plane is quite hot before takeoff.\n\n Noise was not acceptable. Could only see the engine cowling. Get OSHA involved as to the extreme noise which would have been considered red lined.\n\n Has window but the engine is right outside. No view and noisy.\n\n Seat 9A is smaller and also noisy due to the emergency exit and the engine noise that can be heard through the rubber sealing.\n\n Horrible seats. No windows. Full engine noise for more than 3 hours (close to rear engines). Fixed seats. You must avoid these seats.\n\n This seat and row, along with rows 27 and 29 have pointless windows because the engine blocks the view! And also, these seats are very uncomfortable as the noise from the engine is very bothersome. P\n\n Terrible location. Turbine engine completely blocks window view, noise from turbine is over 95dB.\n\n Window is completely blocked by engine. Seats are serisouly cramped. Very uncomfortable.\n\n Engine is right outside the windows for this row. Blocks window view and causes a lot of noise\n"
     ]
    }
   ],
   "source": [
    "# \"Noise\" topic\n",
    "print(topics.loc[topics.topic==\"noise\"].top_words.values)\n",
    "\n",
    "for i in range(10):\n",
    "    print(f'\\n {data.loc[(data.topic==\"noise\")&(data.polarity_score<0)].comment.values[i]}')"
   ]
  },
  {
   "source": [
    "--> Noisy engine, no overhead air vent, view blocked by the engine"
   ],
   "cell_type": "markdown",
   "metadata": {}
  },
  {
   "cell_type": "code",
   "execution_count": 83,
   "metadata": {},
   "outputs": [
    {
     "output_type": "stream",
     "name": "stdout",
     "text": [
      "['dog, dogs, puppy, pet, pets, zappa, vet, animal, animals, usda']\n\n workers have such an attitude. Amsterdam to Fort Walton via Atlanta, Attendant at check-in was extremely rude. When she finished informing me that I would not be able to fly without my pet due to extreme heat temperatures, I asked her when the next flight would be and she got extremely confrontational and asked me why I was interrupting her. I was so shocked I said, \"please finish,\" and she got an even worse attitude with me. I fully understand the flight regulations on pets with temperatures above 80F and simply asked when the next flight would be. I am active military and honestly would never select to fly with Delta again if it weren't for them accommodating military with pets. It's a shame their workers have such an attitude when asked simple questions.\n\n displeased with Delta’s response. Cleveland to Savannah via Atlanta. I am very displeased with Delta’s response to my complaint. I was on a flight with a service animal in front of me. I am highly allergic to animals and had an asthma attack. Delta said they cannot deny a service animal due to medical conditions. The man seemed very healthy. My medical condition is chronic due to this incident. My ten day vacation has been ruined.\n\n never fly on Delta again.Atlanta to Raleigh Durham. My mother and I were returning home from visiting my critically ill sister and had a horrible experience with Delta. My mother is elderly and physically disabled. She had a hip replacement recently and needed a seat were the arm rest would lift up. I had my medical alert service dog with me also. They booked us in a seat that would accommodate my dog but not my mother so she was moved a few seats back. I was told I either had to sit with her or she would have to move back to the seat reserved (which they did in error to begin with). The seat I was reserved had more room for my dog. However I had to move - why I do not know. My service dog (which is a large dog) was made to sit in a area where she was unable to move a muscle the whole flight. Delta should be ashamed for the way they treat the disabled. We will never fly on Delta again.\n\n What a disappointment.Not Verified | Charlotte to Port of Spain. This review has nothing to do with my flight this review has to do with our planned move to Trinidad. My wife has been working for six months to transport our husky with us. She has only called American Airlines Animal Transport and to her dissatisfaction. She was told originally (6 months ago) to measure the dog from paw to ear and add 3 to 4 inches of space in the carrier. We bought our carrier based on what we were told. (34 inches tall) Only to call back today a month before our flight to verify everything and find out that anything over 28 inches tall cannot go through the cargo hole which she has never been told on any of the conversations she has had with them! Now with our flights booked, we find that our dog cannot go with us on American Airlines because she’s too tall they will not allow it! Dogs are like children. We need to get the correct answers when we call about them. It’s hard enough flying in with the dog to a foreign country that requires so much paperwork and tests to now have to deal with a non-pet friendly airline! It’s bad enough that we had to make our flights so they wouldn’t get booked but can’t make hers until 10 days before we leave and if there’s no room then we have to deal with changing our flights. Now, this! What a disappointment!\n\n American Airlines will lie to you. Cleveland to Denver. American Airlines is the most disgusting and inhumane airlines I have ever dealt with. We had a puppy being shipped on a Tuesday and the airline canceled it. Then it was rescheduled for Thursday. The puppy was picked up from the breeders home at 6am and didn't get put on his flight and the airline could not justify why. Then he got put on a later flight which then got delayed and delayed and eventually canceled at 1am. Throughout this time, the airline continuously lied to me and had people from call centers in India speaking to me about my puppy. They lied to me saying the puppy was then taken to \"Pet Hotels and Villas\" which never happened. Puppy Hotels and Villas never had any record of my puppy going there. So where is my puppy? American Airlines will lie to you until you stop calling them or give up. They leave puppies to sit in crates for 12 hours. Who is walking them? Feeding them? Giving them water? Where are the pictures and proof that my puppy is okay? I would never recommend American Airlines unless you want to be mistreated, lied to, and taken advantage of. This has been an ongoing, 4 day battle with them, and I have still not received my puppy. Who is taking care of him? The airlines has no clue.\n\n worst customer service. Hartford to Dallas. My 4 year daughter and myself were flying with our pet, and right from the rip, the customer service/baggage check in woman was super nasty. Before even looking at our pets paperwork she was telling us she couldn't fly. I gave her all the proper documentation and she still wouldn't let our dog fly. On top of that, I asked her if there if we could get a cart ride to our terminal because I am 6 months pregnant, with back issues and a 4 year old. Her response was, \"We have wheel chairs.\" So we walked and low and behold, there is one of those golf carts sitting right in front of terminal, not being used. Fast track, our dog stayed behind and I contacted guest relations, as I was instructed to do. She issued us vouchers, for the incorrect amount, twice, just to find out they can not be used for pet travel. On top of that, the airline wants to charge us an additional $125 for our pet to fly since we won't be on the flight with her, totaling $325 instead of $200. Their responses, \"Sorry for the inconvenience but we can not do anything.\" Needless to say, by far the worst airline customer service we have ever encountered, and we will NEVER fly American Airlines again!\n\n first class was horrendous. Palm Springs to New York via Dallas, and was traveling first class with an emotional support 16 lb Cairn Terrier. I was asked to renew the AA form signed by my doctor 48 hours before the flight. I had been doing this for the last 4 years. I sent the completed form 3 days before the flight I got an email back saying they needed the date the therapist was licensed not the date it expired and the name of her business. I emailed back that she was in private practice and gave the date she was licensed. The day of my flight, I checked in for my flight and was asked for a copy of the service animal form, which I presented and was issued boarding passes, with a stopover in Dallas. When I got to Dallas and boarding the flight to NY with my dog, I was pulled aside and told I couldn't board the flight. Now I had my boarding pass, my suit cases were on the plane, and my little dog was in tow. I said \"What, you've got to be kidding?\". This very rude employee brusque told me he wanted to my paperwork, which I gave to him. He told me I couldn't board the flight because I needed a letter from my doctor with her letterhead and I didn't have it. I told him I was never asked for that, just the AA form. He said the only way I could board the flight was to pay $250. I said I would if this would help expedite and we could sort it out later. Then he told me then I would need a dog carrier to board the plane, which I didn't have as this wasn't required for emotional support animals. I told him this was not right, I had followed the online requirements and showed him my AA form and my emails with the SAC (Special Assistance Coordinator). I asked him to call his supervisor, which he did. All of this took about 30 minutes. Now the plane was fully boarded and he was not going to let me on this flight. Seconds before the flight left, finally his supervisor agreed I could get on the plane. The doors were now locked to the hallway and he couldn't open them, he was having a meltdown, until another employee who had the gate opener helped him out. I was literally overwhelmed and terrorized (create and maintain a state of extreme fear and distress in (someone); fill with terror.) The so called first class flight was horrendous, with a loud stewardess gossiping for 3hrs, we all heard every word and she couldn't even bring water. I had order a breakfast, got some crumby granola!\n\n against AA's pet policy.✅ Verified Review | During a flight last week from Los Angeles to Boston, the passenger in front of me had a small dog. Instead of putting the dog in its carrier, the woman petted the dog, and passed it back and forth to another passenger across the isle several times during the 5+ hour flight. One of the flight attendants even carried the dog up to the front of the plane so that the other attendants could pet it. The dog was not a service dog. I have severe allergies, I and several other passengers nearby began coughing and sneezing. When I mentioned to FA's that this was against AA's pet policy, they claimed to be unfamiliar with the policy. I have been on many, many flights with dogs and cats, and never once complained. With the exception of service dogs, which laid quietly on the floor, all other pets remained in their cases under the seat. I took allergy medicine and was able to manage my symptoms. This is the only flight I have ever been on where a pet has been allowed to be loose and to be handled in such a way. I contacted Customer Relations, expecting to have them apologize, and received a meaningless, copy-and-paste response. The response does not indicate in any way that they understand the issue, recognize that their own policies were not followed, or have any intention of addressing the situation in any way. I tried calling customer service, but got referred back to Customer Relations, who can’t be bothered to provide a phone number. I contacted them over Twitter, but only got a token response. In the absence of other avenues, I reached out directly to the Director of Customer Relations but only received a voicemail back from a lower-level agent, who did not leave a call-back number.\n\n stewardess started barking orders.Flew in to Dallas from New Delhi, India on Emirates in economy class where everyone on the ground and in the air were helpful and friendly. Arrived at Dallas Fort Worth and went to the American Airlines Counter to get our boarding passes to Des Moines, Iowa. Staff at the American Airlines Counter were rude and impatient. I had asked about the terminal where we were supposed to go and she snapped, \"C! It says C right there!\" I had to remind her that I was not familiar with DFW airport. Then, we get on the plane. No greeting from the stewardesses. One stewardess started barking orders at my husband on how to put the carry-on in the overhead bin. No helpful advice. She just stood there with her hands on her hips barking at him.\n\n not accepting any animals in hold. Our family was supposed to fly from Toronto to Budapest via Frankfurt with a dog in hold on March 20th,2020. While we were driving to the Toronto Pearson Airport a few hours before the departure, we received the following email from Lufthansa : \"This email is to inform you that Lufthansa is currently not accepting any animals in hold at this time. As you are currently booked to travel with a dog, kindly make alternate arrangements or call our Reservations at 1-800-645-3880 We apologize for any inconvenience. Thank you.\" Being 30 minutes from the airport, packed in a car with the kids, dog, luggages, dog cage, we called the given number. It was busy for 25 minutes than the Customer Service confirmed the fact that no dogs allowed in hold on Lufthansa planes from that day. They don’t look for an alternate solution for us and if we don’t fly without the dog (How could we? What should we do with the dog?), it is considered a no-show situation. At the airport the frustrated Lufthansa staff confirmed the same. So we stuck in Toronto, lost our tickets and may be the chance to get back home in this crazy times. I know that these days/weeks are extremely difficult for all of us but the way how Lufthansa left our family with confirmed tickets on an other continent showing no interest of finding any solution for us - this is very disappointing. As we were rejected by Lufthansa, we tried to find an other company to take us home. KLM made efforts to find the way to offer tickets to us with the dog as well. We are still waiting for the confirmation.\n"
     ]
    }
   ],
   "source": [
    "# \"Pets\" topic\n",
    "print(topics.loc[topics.topic==\"pets\"].top_words.values)\n",
    "\n",
    "for i in range(10):\n",
    "    print(f'\\n {data.loc[(data.topic==\"pets\")&(data.polarity_score<0)].comment.values[i]}')"
   ]
  },
  {
   "source": [
    "--> service animal causing allergy and asthma, not enough room for service dog, animals not allowed"
   ],
   "cell_type": "markdown",
   "metadata": {}
  },
  {
   "cell_type": "code",
   "execution_count": 84,
   "metadata": {},
   "outputs": [
    {
     "output_type": "stream",
     "name": "stdout",
     "text": [
      "['smaller, friendly, comfortable, nice, clean, buiness, airlines, pleasant, entertainment, small'\n 'extra, wider, room, upgrade, great, plane, space, premium, spacious, worth'\n 'worst, uncomfortable, knees, narrow, terrible, cramped, awful, plane, sleep, box'\n 'legroom, bulkhead, extra, plenty, great, lots, premium, tall, fully, widebodies'\n 'box, width, legroom, narrower, tray, armrest, seats, tables, table, armrests']\n\n Worst flight ever.  I am 6 feet tall, 170 lbs. I fly 20-30 flights/year.  I did NOT fit in this seat.  The distance from the back of the seat to the tray table did not accommodate the length of my legs and I was forced to sit at an angle for 3 hours.  Super uncomfortable.  Again, worst plane ride ever.\n\n Delta's business class mini-suites are a disappointment. Where most airlines would have five or six rows, Delta crams in nine, meaning the suites are VERY stubby.  This puts your face right up against the forward wall and video screen, and it's impossible to back away from it. When you recline your seat, it actually moves FORWARD, making things more claustrophobic.  The only way to be comfortable is in the full flat position.  And the suite \"door\" is a joke.  It's a toy version of what more prestigious airlines use.  It's just silly: a waste of weight.\n\n Absolutely horrid business class seats - never again!!  MIA-LHR overnight, less than 1 hour of sleep.  50K, rear facing, has to step over 51J to even get out of the small cocoon or tomb of a seat space.  50J, forward facing, is SOOOOO narrow, and continually bumped by passers by.  Fly ANY OTHER aircraft - never the 388 in business class\n\n Faced with a 5.5 hour flight on this aircraft,I chose this bulkhead seat for my 6'2\" body. Seat didn't recline and was uncomfortable after a few hours.  No power in seat which is unacceptable in today's world especially given that IFE is via your personal device(s).  Bulkhead wall was not open at the bottom which limited foot room.  Very disappointing.\n\n First Class seat on this plane are by far the worst in the industry. This is a newly reconfigured aircraft and the seat are incredibly uncomfortable and much smaller that older aircraft...\n\n Very bad seat, Besides being squeezed between seat E and G you cannnot stretch your legs because of the metal leg of the front seat and a metal box that is placed underneath the seat in front of you. It is a shame that LUfthansa charges you the same ticket price for this seat. It should be less! Very uncomfortable!!!\n\n This seat is also narrower than the two adjacent ones as well as having restricted left leg room.\n\n Possibly the most uncomfortable cabin in the sky, emirates economy on the 777 is worse than any 'budget' airline. The seat is too narrow (cabin not wide enough for 3-4-3 layout)and legroom very poor, and I am only 180cm tall. A trip from Aus to UK on this plane was a nightmare. Never again, Qantas every time.\n\n There was no bulkhead in front of me so leg room length-wise was ample.  The storage pocket near floor level on the fuselage wall, on the other hand, dictated how I positioned my legs throughout the flight and was not as comfortable as 10D, which I had on the previous flight.  The seats are definitely narrower and the tray table less usable.  In addition, the in-seat entertainment monitors must be stowed for takeoff and landing which leaves some time without the entertainment options that every other seat has.  Recommend row 11.  It doesn't have as much legroom, but does not have the width issue, nor the in-seat entertainment issue, and the legroom is ample for at least 6'2\" people.\n\n not a good seat, in the back is the curtain to the economy class, plus no good legroom\n"
     ]
    }
   ],
   "source": [
    "# \"Space\" topic\n",
    "print(topics.loc[topics.topic==\"space\"].top_words.values)\n",
    "\n",
    "for i in range(10):\n",
    "    print(f'\\n {data.loc[(data.topic==\"space\")&(data.polarity_score<0)].comment.values[i]}')"
   ]
  },
  {
   "source": [
    "--> limited leg room, narrow seats, no power in seat, metal leg of front seat is annoying"
   ],
   "cell_type": "markdown",
   "metadata": {}
  },
  {
   "cell_type": "code",
   "execution_count": 85,
   "metadata": {},
   "outputs": [
    {
     "output_type": "stream",
     "name": "stdout",
     "text": [
      "['oxygen, storage, tanks, compartment, bottles, luggage, locker, suprises, ewuipment, supplmental']\n\n Seat 5C has no headroom storage as the oxygen tank is located above the seat.\n\nAlso note that Business Class is limited to rows 1-4 only.\n\n Seats 6A and 7A do not have access to an overhead storage compartment. This is inconvenient. The compartment contains oxygen bottles permanently.\n\n Seat 13A does not have overhead storage because the overhead storage bin for this seat houses the emergency oxygen bottles.\n\n Delta stores emergency equipment in the row 16 overhead bins, making this a bad row if you have a carry on.\n\n The overhead bin above seat 16E is used for emergency equipment and cannot be used by passengers.\n\n No suprises at seat 33c.\n\n This seat and 15C on an A321 has more leg room since there is no IFE unit.\n\n Overhead bin full with Oxygen tanks leaving no space for baggage\n\n No overhead space, as it is dedicated to emergency equipment.\n\n The overhead bin above 2H is blocked for aircraft equipment.\n"
     ]
    }
   ],
   "source": [
    "# \"storage\" topic\n",
    "print(topics.loc[topics.topic==\"storage\"].top_words.values)\n",
    "\n",
    "for i in range(10):\n",
    "    print(f'\\n {data.loc[(data.topic==\"storage\")&(data.polarity_score<0)].comment.values[i]}')"
   ]
  },
  {
   "source": [
    "--> Lack of overhead storage due to oxygen bottles/emergency equipment    "
   ],
   "cell_type": "markdown",
   "metadata": {}
  },
  {
   "cell_type": "code",
   "execution_count": 86,
   "metadata": {},
   "outputs": [
    {
     "output_type": "stream",
     "name": "stdout",
     "text": [
      "['window, misaligned, windows, missing, offset, opposed, seatback, behindbeside, mislligned, left']\n\n No window\n\n The screen is placed at a weird angle.\n\n Great seat but is missing 1 window so it only has 1 as opposed to 4J which has 2 windows.\n\n There is no window at row 26.\n\n The seat is missing a window, same goes for 23A on the other side of the aisle.\n\n There is no window\n\n It says might not recline, although mine didn't recline at all. Avoid row 10.\n\n Dont book this seat if you ever want to look out a window. This seat has no window and you cant even see out the window of the person in front or behind. It feels a little claustrophobic.\n\n This seat essentially has no window (the windows are misaligned in this region of the plane and are spaced further apart than other regions of the plane).\n\n Engine blocks window partially.\n"
     ]
    }
   ],
   "source": [
    "# \"windows\" topic\n",
    "print(topics.loc[topics.topic==\"windows\"].top_words.values)\n",
    "\n",
    "for i in range(10):\n",
    "    print(f'\\n {data.loc[(data.topic==\"windows\")&(data.polarity_score<0)].comment.values[i]}')"
   ]
  },
  {
   "source": [
    "--> lack of windows for some seats, window blocked by the engine "
   ],
   "cell_type": "markdown",
   "metadata": {}
  }
 ]
}